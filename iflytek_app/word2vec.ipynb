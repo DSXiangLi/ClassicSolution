{
 "cells": [
  {
   "cell_type": "code",
   "execution_count": 5,
   "metadata": {},
   "outputs": [],
   "source": [
    "import pandas as pd \n",
    "import numpy as np \n",
    "import collections \n",
    "from itertools import chain\n",
    "from gensim.models import Word2Vec"
   ]
  },
  {
   "cell_type": "code",
   "execution_count": 6,
   "metadata": {
    "execution": {
     "iopub.execute_input": "2022-08-05T11:49:50.246635Z",
     "iopub.status.busy": "2022-08-05T11:49:50.245769Z",
     "iopub.status.idle": "2022-08-05T11:49:50.464626Z",
     "shell.execute_reply": "2022-08-05T11:49:50.463625Z",
     "shell.execute_reply.started": "2022-08-05T11:49:50.246607Z"
    }
   },
   "outputs": [],
   "source": [
    "train = pd.read_csv('./app/train.csv')\n",
    "test = pd.read_csv('./app/test.csv')\n",
    "\n",
    "train['name'] = train['name'].map(lambda x: x.split(' '))\n",
    "test['name'] = test['name'].map(lambda x: x.split(' '))\n",
    "train['description'] = train['description'].map(lambda x: x.split(' '))\n",
    "test['description'] = test['description'].map(lambda x: x.split(' '))\n",
    "\n",
    "train['l1'] = train['name'].map(lambda x: len(x))\n",
    "test['l1'] = test['name'].map(lambda x: len(x))\n",
    "\n",
    "train['l2'] = train['description'].map(lambda x: len(x))\n",
    "test['l2'] = test['description'].map(lambda x: len(x))\n",
    "train['len']= train.apply(lambda x: x['l1'] + x['l2'], axis=1 )\n",
    "test['len']= test.apply(lambda x: x['l1'] + x['l2'], axis=1 )"
   ]
  },
  {
   "cell_type": "code",
   "execution_count": 7,
   "metadata": {
    "execution": {
     "iopub.execute_input": "2022-08-05T11:49:50.467825Z",
     "iopub.status.busy": "2022-08-05T11:49:50.465657Z",
     "iopub.status.idle": "2022-08-05T11:49:50.511208Z",
     "shell.execute_reply": "2022-08-05T11:49:50.510232Z",
     "shell.execute_reply.started": "2022-08-05T11:49:50.467792Z"
    }
   },
   "outputs": [
    {
     "data": {
      "text/plain": [
       "(                id           l1           l2          len\n",
       " count  4199.000000  4199.000000  4199.000000  4199.000000\n",
       " mean   2099.000000     8.969278    37.087878    46.057156\n",
       " std    1212.291219     4.576621    79.204914    79.332999\n",
       " min       0.000000     2.000000     1.000000     4.000000\n",
       " 25%    1049.500000     5.000000     6.000000    15.000000\n",
       " 50%    2099.000000     8.000000    12.000000    22.000000\n",
       " 75%    3148.500000    12.000000    26.000000    36.000000\n",
       " max    4198.000000    32.000000   946.000000   961.000000,\n",
       "                id           l1           l2          len\n",
       " count  1800.00000  1800.000000  1800.000000  1800.000000\n",
       " mean    899.50000     8.942778    36.163889    45.106667\n",
       " std     519.75956     4.514390    77.122769    77.258960\n",
       " min       0.00000     2.000000     1.000000     3.000000\n",
       " 25%     449.75000     5.000000     6.000000    15.000000\n",
       " 50%     899.50000     8.000000    12.000000    21.000000\n",
       " 75%    1349.25000    12.000000    27.000000    37.000000\n",
       " max    1799.00000    30.000000  1007.000000  1016.000000)"
      ]
     },
     "execution_count": 7,
     "metadata": {},
     "output_type": "execute_result"
    }
   ],
   "source": [
    "train.describe(), test.describe()"
   ]
  },
  {
   "cell_type": "markdown",
   "metadata": {},
   "source": [
    "## 词向量"
   ]
  },
  {
   "cell_type": "markdown",
   "metadata": {},
   "source": [
    "### char "
   ]
  },
  {
   "cell_type": "code",
   "execution_count": 8,
   "metadata": {
    "execution": {
     "iopub.execute_input": "2022-08-05T11:49:50.514209Z",
     "iopub.status.busy": "2022-08-05T11:49:50.513686Z",
     "iopub.status.idle": "2022-08-05T11:49:50.555842Z",
     "shell.execute_reply": "2022-08-05T11:49:50.555149Z",
     "shell.execute_reply.started": "2022-08-05T11:49:50.514178Z"
    }
   },
   "outputs": [
    {
     "name": "stdout",
     "output_type": "stream",
     "text": [
      "total sentences 11998, total char 2776\n"
     ]
    }
   ],
   "source": [
    "sentences = train['name'].values.tolist()+\\\n",
    "                test['name'].values.tolist() +\\\n",
    "                train['description'].values.tolist() +\\\n",
    "                test['description'].values.tolist()\n",
    "\n",
    "char = collections.Counter(chain(*sentences))\n",
    "print('total sentences {}, total char {}'.format(len(sentences), len(char)))"
   ]
  },
  {
   "cell_type": "code",
   "execution_count": 9,
   "metadata": {
    "execution": {
     "iopub.execute_input": "2022-08-05T11:49:50.557834Z",
     "iopub.status.busy": "2022-08-05T11:49:50.556905Z",
     "iopub.status.idle": "2022-08-05T11:49:54.302734Z",
     "shell.execute_reply": "2022-08-05T11:49:54.301742Z",
     "shell.execute_reply.started": "2022-08-05T11:49:50.557807Z"
    }
   },
   "outputs": [],
   "source": [
    "w2v = Word2Vec(sentences = sentences, vector_size=100, \n",
    "               window=5, min_count=1, workers=4, sg=1)\n",
    "w2v.save('./checkpoint/char_min1_win5_sg_d100')"
   ]
  },
  {
   "cell_type": "markdown",
   "metadata": {},
   "source": [
    "### Phrase "
   ]
  },
  {
   "cell_type": "code",
   "execution_count": 10,
   "metadata": {},
   "outputs": [],
   "source": [
    "from gensim.models.phrases import Phrases"
   ]
  },
  {
   "cell_type": "code",
   "execution_count": 23,
   "metadata": {},
   "outputs": [],
   "source": [
    "phrase_model = Phrases(sentences, min_count=3, threshold=10)\n",
    "new_sentences = phrase_model[sentences]"
   ]
  },
  {
   "cell_type": "code",
   "execution_count": 17,
   "metadata": {},
   "outputs": [],
   "source": [
    "w2v = Word2Vec(sentences = new_sentences, vector_size=100, \n",
    "               window=5, min_count=1, workers=4, sg=1)\n",
    "w2v.save('./checkpoint/phrase_min1_win5_sg_m5_d100')"
   ]
  },
  {
   "cell_type": "code",
   "execution_count": 18,
   "metadata": {
    "pycharm": {
     "name": "#%%\n"
    }
   },
   "outputs": [],
   "source": [
    "phrase_model.save('./checkpoint/phrase_tokenizer')"
   ]
  }
 ],
 "metadata": {
  "kernelspec": {
   "display_name": "py36_tf23",
   "language": "python",
   "name": "py36_tf23"
  },
  "language_info": {
   "codemirror_mode": {
    "name": "ipython",
    "version": 3
   },
   "file_extension": ".py",
   "mimetype": "text/x-python",
   "name": "python",
   "nbconvert_exporter": "python",
   "pygments_lexer": "ipython3",
   "version": "3.6.13"
  },
  "toc": {
   "base_numbering": 1,
   "nav_menu": {},
   "number_sections": true,
   "sideBar": true,
   "skip_h1_title": false,
   "title_cell": "Table of Contents",
   "title_sidebar": "Contents",
   "toc_cell": false,
   "toc_position": {},
   "toc_section_display": true,
   "toc_window_display": false
  }
 },
 "nbformat": 4,
 "nbformat_minor": 4
}