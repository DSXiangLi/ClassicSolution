{
 "cells": [
  {
   "cell_type": "code",
   "execution_count": 2,
   "metadata": {},
   "outputs": [
    {
     "name": "stdout",
     "output_type": "stream",
     "text": [
      "No GPU available, using the CPU instead.\n"
     ]
    }
   ],
   "source": [
    "import torch \n",
    "import time \n",
    "from sklearn.model_selection import KFold\n",
    "\n",
    "import torch.nn as nn\n",
    "from torch.utils.data.sampler import SequentialSampler, RandomSampler\n",
    "from torch.utils.data.dataloader import DataLoader\n",
    "from torch.utils.tensorboard import SummaryWriter\n",
    "from gensim.models.phrases import Phrases\n",
    "from gensim.models import Word2Vec\n",
    "\n",
    "from src.train_utils import set_seed, ModelSave, get_torch_device, EarlyStop, TrainParams\n",
    "from src.metric import  multi_cls_metrics,multi_cls_log\n",
    "from src.dataset.tokenizer import GensimTokenizer\n",
    "\n",
    "from iflytek_app.dataset import MixDataset\n",
    "from iflytek_app.process import train_process, test_process, result_process,kfold_inference\n",
    "from iflytek_app.models import Textcnn, TextcnnMeanTeacher\n",
    "device = get_torch_device()\n",
    "set_seed()"
   ]
  },
  {
   "cell_type": "code",
   "execution_count": 3,
   "metadata": {},
   "outputs": [
    {
     "name": "stdout",
     "output_type": "stream",
     "text": [
      "                id           l1           l2          len\n",
      "count  4199.000000  4199.000000  4199.000000  4199.000000\n",
      "mean   2099.000000     8.969278    37.087878    46.057156\n",
      "std    1212.291219     4.576621    79.204914    79.332999\n",
      "min       0.000000     2.000000     1.000000     4.000000\n",
      "25%    1049.500000     5.000000     6.000000    15.000000\n",
      "50%    2099.000000     8.000000    12.000000    22.000000\n",
      "75%    3148.500000    12.000000    26.000000    36.000000\n",
      "max    4198.000000    32.000000   946.000000   961.000000\n",
      "{'14784131 14858934 14784131 14845064': 0, '14852788 14717848 15639958 15632020': 1, '14844856 14724258 14925237 14854807': 2, '14925756 15639967 14853254 14728639': 3, '14844593 14924945': 4, '15709098 14716590 14924703 14779559': 5, '14726332 14728344 14854542 14844591': 6, '14858934 15636660 15704193 14849963': 7, '15710359 14847407 14845602 14859696': 8, '14794687 14782344': 9, '15630486 15702410 14718849 15709093': 10, '15632285 15706536 14721977 14925219': 11, '14782903 15634620 15638402 15706300': 12, '14844093 15705739 14854331 15699885': 13, '14856354 14844592': 14, '14847385 14844587 14848641 14847398': 15, '14783134 15697333 14854817 14925479': 16, '14924216 14781104 14717848 14791612': 17, '14786237 15697082 14722731 14924977': 18}\n"
     ]
    }
   ],
   "source": [
    "phraser = Phrases.load('./checkpoint/phrase_tokenizer')\n",
    "c2v = GensimTokenizer( Word2Vec.load('./checkpoint/char_min1_win5_sg_d100'))\n",
    "w2v = GensimTokenizer(Word2Vec.load('./checkpoint/phrase_min1_win5_sg_d100'), phraser)\n",
    "w2v.init_vocab()\n",
    "c2v.init_vocab()\n",
    "\n",
    "df, label2idx = train_process()\n",
    "test = test_process()\n",
    "label2idx.update({'unlabel':-1})"
   ]
  },
  {
   "cell_type": "code",
   "execution_count": 13,
   "metadata": {
    "scrolled": true
   },
   "outputs": [],
   "source": [
    "log_steps = 10\n",
    "save_steps = 20\n",
    "kfold=5\n",
    "tp = TrainParams(\n",
    "    epoch_size=30,\n",
    "    lr=1e-3,\n",
    "    loss_fn=nn.CrossEntropyLoss(),\n",
    "    max_seq_len=1000,\n",
    "    batch_size=64,\n",
    "    dropout_rate=0.5,\n",
    "    label_size = len(label2idx),\n",
    "    vocab_size = w2v.vocab_size,\n",
    "    embedding_dim = w2v.embedding_size + c2v.embedding_size,\n",
    "    embedding1=c2v.embedding, \n",
    "    embedding2 =w2v.embedding,\n",
    "    filter_size=70,\n",
    "    kernel_size_list = [2,3,4,5],\n",
    "    hidden_size = 100,\n",
    "    early_stop_params = {\n",
    "        'monitor':'f1_micro',\n",
    "        'mode':'max',\n",
    "        'min_delta': 0,\n",
    "        'patience':5,\n",
    "        'verbose':False\n",
    "    },\n",
    "    scheduler_params={'mode': 'max',\n",
    "                     'factor': 0.3,\n",
    "                     'patience': 1,\n",
    "                     'verbose': True,\n",
    "                     'threshold':0.0001,\n",
    "                     'threshold_mode':'rel',\n",
    "                     'cooldown':0,\n",
    "                     'min_lr':1e-6},\n",
    "    alpha=0.95,\n",
    "    max_unsupervised=100,\n",
    "    labeled_size = int(df.shape[0]/kfold *(kfold-1)),\n",
    "    ramp_up_method='sigmoid'\n",
    ")"
   ]
  },
  {
   "cell_type": "code",
   "execution_count": null,
   "metadata": {
    "scrolled": true
   },
   "outputs": [
    {
     "name": "stdout",
     "output_type": "stream",
     "text": [
      "./checkpoint/textcnn_mean_teacher/k0 model cleaned\n",
      " Epoch  |  Batch  |  Train Loss  |  Val Loss   |  Elapsed \n",
      "------------------------------------------------------------\n",
      "   1    |   10    |   4.138028   |     -     |   18.63  \n",
      "   1    |   20    |   2.706158   |     -     |   16.12  \n",
      "   1    |   30    |   2.447243   |     -     |   23.90  \n",
      "   1    |   40    |   2.117531   |     -     |   16.28  \n",
      "   1    |   50    |   2.106624   |     -     |   23.53  \n",
      "   1    |   60    |   1.957173   |     -     |   16.10  \n",
      "   1    |   70    |   1.785236   |     -     |   23.32  \n",
      "   1    |   80    |   1.672576   |     -     |   15.60  \n",
      "----------------------------------------------------------------------\n",
      "   1    |    -    |   2.418047   |  1.781332  |  161.34  \n",
      "\n",
      "\n",
      " Epoch  | Macro Acc | Macro AUC | Macro AP  | Macro Precision | Macro Recall | Macro F1 \n",
      "------------------------------------------------------------------------------------------\n",
      "   1    |  22.366%  |  73.320%  |  35.290%  |     30.845%     |   22.366%    |  45.357%  \n",
      " Epoch  | Micro Acc | Micro AUC | Micro AP  | Micro Precision | Micro Recall | Micro F1 \n",
      "------------------------------------------------------------------------------------------\n",
      "   1    |  45.357%  |     -     |     -     |     45.357%     |   45.357%    |  45.357%  \n",
      "\n",
      "\n",
      "\n",
      "\n",
      " Epoch  |  Batch  |  Train Loss  |  Val Loss   |  Elapsed \n",
      "------------------------------------------------------------\n",
      "   2    |   10    |   2.035698   |     -     |   17.64  \n",
      "   2    |   20    |   1.869047   |     -     |   15.98  \n",
      "   2    |   30    |   1.394678   |     -     |   23.71  \n",
      "   2    |   40    |   1.492800   |     -     |   15.55  \n",
      "   2    |   50    |   1.380002   |     -     |   23.24  \n"
     ]
    }
   ],
   "source": [
    "kf = KFold(n_splits=kfold, shuffle=True, random_state=24)\n",
    "for fold,(train_index, valid_index) in enumerate(kf.split(df)):\n",
    "    train, valid = df.iloc[train_index], df.iloc[valid_index]\n",
    "\n",
    "    # combine label and unlabel data\n",
    "    train_dataset = MixDataset(tp.max_seq_len, w2v, c2v, phraser, label2idx, \n",
    "                               train['name'].values.tolist() + test['name'].values.tolist(),\n",
    "                               train['description'].values.tolist() + test['name'].values.tolist(),\n",
    "                               train['label'].values.tolist() + ['unlabel']* test.shape[0])\n",
    "    valid_dataset = MixDataset(tp.max_seq_len, w2v, c2v, phraser, label2idx, \n",
    "                               valid['name'].values, valid['description'].values, valid['label'].values)\n",
    "    train_sampler = RandomSampler(train_dataset)\n",
    "    valid_sampler = SequentialSampler(valid_dataset)\n",
    "    train_loader = DataLoader(train_dataset, sampler=train_sampler, batch_size=tp.batch_size)\n",
    "    valid_loader = DataLoader(valid_dataset, sampler=valid_sampler, batch_size=tp.batch_size)\n",
    "    \n",
    "    tp.update({'num_train_steps': len(train_dataset)})\n",
    "    \n",
    "    CKPT = './checkpoint/textcnn_mean_teacher/k{}'.format(fold)\n",
    "    saver = ModelSave(CKPT, continue_train=False)\n",
    "    saver.init()\n",
    "    \n",
    "    tb = SummaryWriter(CKPT)\n",
    "    es = EarlyStop(**tp.early_stop_params)\n",
    "\n",
    "    global_step = 0\n",
    "    model = TextcnnMeanTeacher(tp, tb)\n",
    "    model.initialize()\n",
    "    optimizer, scheduler = model.get_optimizer()\n",
    "    \n",
    "    for epoch_i in range(tp['epoch_size']):\n",
    "        if global_step==1:\n",
    "            print(model)\n",
    "        print(f\"{'Epoch':^7} | {'Batch':^7} | {'Train Loss':^12} | {'Val Loss':^10}  | {'Elapsed':^9}\")\n",
    "        print(\"-\"*60)\n",
    "\n",
    "        # Measure the elapsed time of each epoch\n",
    "        t0_epoch, t0_batch = time.time(), time.time()\n",
    "        total_loss, batch_loss, batch_counts = 0, 0, 0\n",
    "\n",
    "        model.train()\n",
    "        for step, batch in enumerate(train_loader):\n",
    "            global_step +=1\n",
    "            batch_counts +=1\n",
    "\n",
    "            #Forward propogate\n",
    "            model.zero_grad()\n",
    "            feature = {k:v.to(device) for k, v in batch.items()}\n",
    "            logits = model(feature)\n",
    "            loss = model.compute_loss(feature, logits)\n",
    "            tb.add_scalar('loss/avg_loss', loss, global_step=global_step)\n",
    "            \n",
    "            batch_loss += loss.item()\n",
    "            total_loss += loss.item()\n",
    "            loss.backward()\n",
    "            \n",
    "            torch.nn.utils.clip_grad_norm_(model.parameters(), 5.0)\n",
    "            optimizer.step()\n",
    "            model.step_update() \n",
    "            \n",
    "            # Log steps for train loss logging\n",
    "            if (step % log_steps == 0 and step != 0) or (step == len(train_loader) - 1):\n",
    "                time_elapsed = time.time() - t0_batch\n",
    "                print(f\"{epoch_i + 1:^7} | {step:^7} | {batch_loss / batch_counts:^12.6f} | {'-':^9} | {time_elapsed:^9.2f}\")\n",
    "                batch_loss, batch_counts = 0, 0\n",
    "                t0_batch = time.time()\n",
    "\n",
    "            # Save steps for ckpt saving and dev evaluation\n",
    "            if (step % save_steps == 0 and step != 0) or (step == len(train_loader) - 1):\n",
    "                model.apply_ema()\n",
    "                val_metrics = multi_cls_metrics(model, valid_loader, device)\n",
    "                model.restore()\n",
    "                \n",
    "                for key, val in val_metrics.items():\n",
    "                    tb.add_scalar(f'metric/{key}', val, global_step=global_step)\n",
    "                avg_train_loss = total_loss / step\n",
    "                tb.add_scalars('loss/train_valid',{'train': avg_train_loss,\n",
    "                                                    'valid': val_metrics['val_loss']}, global_step=global_step)\n",
    "                \n",
    "                model.apply_ema()\n",
    "                saver(total_loss / step, val_metrics['val_loss'], epoch_i, global_step, model, optimizer, scheduler)\n",
    "                model.restore()\n",
    "        # On Epoch End: calcualte train & valid loss and log overall metrics\n",
    "        time_elapsed = time.time() - t0_epoch\n",
    "        model.epoch_update()\n",
    "        model.apply_ema()\n",
    "        val_metrics = multi_cls_metrics(model, valid_loader, device)\n",
    "        model.restore()\n",
    "        avg_train_loss = total_loss / step\n",
    "        scheduler.step(val_metrics['f1_micro'])\n",
    "        print(\"-\"*70)\n",
    "        print(f\"{epoch_i + 1:^7} | {'-':^7} | {avg_train_loss:^12.6f} | {val_metrics['val_loss']:^10.6f} | {time_elapsed:^9.2f}\")\n",
    "        multi_cls_log(epoch_i, val_metrics)\n",
    "        print(\"\\n\")\n",
    "        if es.check(val_metrics):\n",
    "            break"
   ]
  },
  {
   "cell_type": "markdown",
   "metadata": {
    "pycharm": {
     "name": "#%% md\n"
    }
   },
   "source": [
    "## K-Fold Evalutaion"
   ]
  },
  {
   "cell_type": "code",
   "execution_count": 21,
   "metadata": {
    "execution": {
     "iopub.execute_input": "2022-08-05T13:31:28.634820Z",
     "iopub.status.busy": "2022-08-05T13:31:28.634312Z",
     "iopub.status.idle": "2022-08-05T13:31:41.406697Z",
     "shell.execute_reply": "2022-08-05T13:31:41.405987Z",
     "shell.execute_reply.started": "2022-08-05T13:31:28.634794Z"
    }
   },
   "outputs": [],
   "source": [
    "test = test_process()\n",
    "test_dataset = MixDataset(tp.max_seq_len, w2v, c2v, phraser, label2idx,  test['name'].values, test['description'].values)\n",
    "test_sampler = SequentialSampler(test_dataset)\n",
    "test_loader = DataLoader(test_dataset, sampler=test_sampler, batch_size=tp.batch_size)"
   ]
  },
  {
   "cell_type": "code",
   "execution_count": 25,
   "metadata": {
    "pycharm": {
     "name": "#%%\n"
    }
   },
   "outputs": [],
   "source": [
    "result = kfold_inference(test_loader, tp, Textcnn, './checkpoint/textcnn_mean_teacher', 5, device)\n",
    "result['pred'] = result['pred_avg']\n",
    "result_process(result, label2idx, './submit/textcnn_pseudo_label_5fold_avg.csv')"
   ]
  },
  {
   "cell_type": "code",
   "execution_count": null,
   "metadata": {},
   "outputs": [],
   "source": []
  }
 ],
 "metadata": {
  "kernelspec": {
   "display_name": "py36_tf23",
   "language": "python",
   "name": "py36_tf23"
  },
  "language_info": {
   "codemirror_mode": {
    "name": "ipython",
    "version": 3
   },
   "file_extension": ".py",
   "mimetype": "text/x-python",
   "name": "python",
   "nbconvert_exporter": "python",
   "pygments_lexer": "ipython3",
   "version": "3.6.13"
  },
  "toc": {
   "base_numbering": 1,
   "nav_menu": {},
   "number_sections": true,
   "sideBar": true,
   "skip_h1_title": false,
   "title_cell": "Table of Contents",
   "title_sidebar": "Contents",
   "toc_cell": false,
   "toc_position": {},
   "toc_section_display": true,
   "toc_window_display": false
  }
 },
 "nbformat": 4,
 "nbformat_minor": 4
}
