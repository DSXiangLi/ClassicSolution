{
 "cells": [
  {
   "cell_type": "code",
   "execution_count": 3,
   "id": "979c4bf4",
   "metadata": {},
   "outputs": [
    {
     "name": "stdout",
     "output_type": "stream",
     "text": [
      "No GPU available, using the CPU instead.\n"
     ]
    }
   ],
   "source": [
    "from src.dataset.converter import single_text, double_text\n",
    "from process import * \n",
    "from sklearn.model_selection import train_test_split\n"
   ]
  },
  {
   "cell_type": "code",
   "execution_count": 11,
   "id": "27f11dc3",
   "metadata": {},
   "outputs": [
    {
     "name": "stdout",
     "output_type": "stream",
     "text": [
      "          negative      l_title       l_text     l_entity    l_kentity  \\\n",
      "count  4980.000000  4980.000000  4980.000000  4980.000000  4980.000000   \n",
      "mean      0.555221    72.532530   219.405823     1.872490     0.983333   \n",
      "std       0.496991    63.713498   446.521731     1.099766     1.159989   \n",
      "min       0.000000     0.000000     5.000000     1.000000     0.000000   \n",
      "50%       1.000000    56.000000   141.000000     2.000000     1.000000   \n",
      "75%       1.000000   144.000000   181.250000     2.000000     2.000000   \n",
      "95%       1.000000   156.000000   546.000000     4.000000     3.000000   \n",
      "99%       1.000000   161.210000  2432.460000     5.000000     4.000000   \n",
      "max       1.000000   201.000000  6872.000000    21.000000    18.000000   \n",
      "\n",
      "           l_other  \n",
      "count  4980.000000  \n",
      "mean      0.889157  \n",
      "std       1.077702  \n",
      "min      -1.000000  \n",
      "50%       1.000000  \n",
      "75%       1.000000  \n",
      "95%       3.000000  \n",
      "99%       5.000000  \n",
      "max      12.000000  \n"
     ]
    }
   ],
   "source": [
    "data_dir = './trainsample'\n",
    "\n",
    "df = data_process()\n",
    "df1 = task_format1(df)\n",
    "train, valid = train_test_split(df1, test_size= 0.2, random_state=1234)\n",
    "train.to_csv('./trainsample/train.csv')\n",
    "valid.to_csv('./trainsample/valid.csv')\n",
    "double_text(train['id'], train['single_entity'], train['corpus'], train['label'], data_dir, 'train1')\n",
    "double_text(valid['id'], valid['single_entity'], valid['corpus'], valid['label'], data_dir, 'valid1')\n",
    "\n",
    "df2 = task_format2(df)\n",
    "train, valid = train_test_split(df2, test_size= 0.2, random_state=1234)\n",
    "single_text(train['id'], train['corpus'], train['label'], data_dir, 'train2')\n",
    "single_text(valid['id'], valid['corpus'], valid['label'], data_dir, 'valid2')\n",
    "\n",
    "df3 = task_format3(df)\n",
    "train, valid = train_test_split(df3, test_size= 0.2, random_state=1234)\n",
    "double_text(train['id'], train['other_entity'], train['corpus'], train['label'], data_dir, 'train3')\n",
    "double_text(valid['id'], valid['other_entity'], valid['corpus'], valid['label'], data_dir, 'valid3')"
   ]
  }
 ],
 "metadata": {
  "kernelspec": {
   "display_name": "py36_tf23",
   "language": "python",
   "name": "py36_tf23"
  },
  "language_info": {
   "codemirror_mode": {
    "name": "ipython",
    "version": 3
   },
   "file_extension": ".py",
   "mimetype": "text/x-python",
   "name": "python",
   "nbconvert_exporter": "python",
   "pygments_lexer": "ipython3",
   "version": "3.6.13"
  },
  "toc": {
   "base_numbering": 1,
   "nav_menu": {},
   "number_sections": true,
   "sideBar": true,
   "skip_h1_title": false,
   "title_cell": "Table of Contents",
   "title_sidebar": "Contents",
   "toc_cell": false,
   "toc_position": {},
   "toc_section_display": true,
   "toc_window_display": false
  }
 },
 "nbformat": 4,
 "nbformat_minor": 5
}
