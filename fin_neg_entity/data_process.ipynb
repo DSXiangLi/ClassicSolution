{
 "cells": [
  {
   "cell_type": "code",
   "execution_count": 2,
   "id": "979c4bf4",
   "metadata": {},
   "outputs": [],
   "source": [
    "from src.dataset.converter import single_text, double_text, double_text_double_label\n",
    "from process import * \n",
    "from sklearn.model_selection import train_test_split"
   ]
  },
  {
   "cell_type": "code",
   "execution_count": 3,
   "id": "e9f5f556",
   "metadata": {},
   "outputs": [
    {
     "name": "stdout",
     "output_type": "stream",
     "text": [
      "          negative      l_title       l_text     l_entity    l_kentity  \\\n",
      "count  4980.000000  4980.000000  4980.000000  4980.000000  4980.000000   \n",
      "mean      0.555221    72.532530   219.405823     1.872490     0.983333   \n",
      "std       0.496991    63.713498   446.521731     1.099766     1.159989   \n",
      "min       0.000000     0.000000     5.000000     1.000000     0.000000   \n",
      "50%       1.000000    56.000000   141.000000     2.000000     1.000000   \n",
      "75%       1.000000   144.000000   181.250000     2.000000     2.000000   \n",
      "95%       1.000000   156.000000   546.000000     4.000000     3.000000   \n",
      "99%       1.000000   161.210000  2432.460000     5.000000     4.000000   \n",
      "max       1.000000   201.000000  6872.000000    21.000000    18.000000   \n",
      "\n",
      "           l_other  \n",
      "count  4980.000000  \n",
      "mean      0.889157  \n",
      "std       1.077702  \n",
      "min      -1.000000  \n",
      "50%       1.000000  \n",
      "75%       1.000000  \n",
      "95%       3.000000  \n",
      "99%       5.000000  \n",
      "max      12.000000  \n"
     ]
    }
   ],
   "source": [
    "data_dir = './trainsample'\n",
    "df = data_process('./trainsample/Train_Data.csv')"
   ]
  },
  {
   "cell_type": "markdown",
   "id": "8fa289c5",
   "metadata": {
    "heading_collapsed": true
   },
   "source": [
    "## Format1： 双输入文本+二分类任务\n",
    "- text1：实体\n",
    "- text2：title+text\n",
    "- 其他伴随实体都用[O]进行替换"
   ]
  },
  {
   "cell_type": "code",
   "execution_count": 11,
   "id": "27f11dc3",
   "metadata": {
    "hidden": true
   },
   "outputs": [
    {
     "name": "stdout",
     "output_type": "stream",
     "text": [
      "          negative      l_title       l_text     l_entity    l_kentity  \\\n",
      "count  4980.000000  4980.000000  4980.000000  4980.000000  4980.000000   \n",
      "mean      0.555221    72.532530   219.405823     1.872490     0.983333   \n",
      "std       0.496991    63.713498   446.521731     1.099766     1.159989   \n",
      "min       0.000000     0.000000     5.000000     1.000000     0.000000   \n",
      "50%       1.000000    56.000000   141.000000     2.000000     1.000000   \n",
      "75%       1.000000   144.000000   181.250000     2.000000     2.000000   \n",
      "95%       1.000000   156.000000   546.000000     4.000000     3.000000   \n",
      "99%       1.000000   161.210000  2432.460000     5.000000     4.000000   \n",
      "max       1.000000   201.000000  6872.000000    21.000000    18.000000   \n",
      "\n",
      "           l_other  \n",
      "count  4980.000000  \n",
      "mean      0.889157  \n",
      "std       1.077702  \n",
      "min      -1.000000  \n",
      "50%       1.000000  \n",
      "75%       1.000000  \n",
      "95%       3.000000  \n",
      "99%       5.000000  \n",
      "max      12.000000  \n"
     ]
    }
   ],
   "source": [
    "\n",
    "df1 = task_format1(df)\n",
    "train, valid = train_test_split(df1, test_size= 0.2, random_state=1234)\n",
    "train.to_csv('./trainsample/train.csv')\n",
    "valid.to_csv('./trainsample/valid.csv')\n",
    "\n",
    "double_text(train['id'], train['single_entity'], train['corpus'], train['label'], data_dir, 'train1')\n",
    "double_text(valid['id'], valid['single_entity'], valid['corpus'], valid['label'], data_dir, 'valid1')"
   ]
  },
  {
   "cell_type": "markdown",
   "id": "8044946b",
   "metadata": {},
   "source": [
    "##  Format2: 单输入文本+二分类任务\n",
    "- text：title+text\n",
    "- 待预测实体用’[E]‘在实体的左右边界进行标记，其他伴随实体都用[O]进行替换"
   ]
  },
  {
   "cell_type": "code",
   "execution_count": null,
   "id": "7343fa0a",
   "metadata": {},
   "outputs": [],
   "source": [
    "df2 = task_format2(df)\n",
    "train, valid = train_test_split(df2, test_size= 0.2, random_state=1234)\n",
    "single_text(train['id'], train['corpus'], train['label'], data_dir, 'train2')\n",
    "single_text(valid['id'], valid['corpus'], valid['label'], data_dir, 'valid2')\n"
   ]
  },
  {
   "cell_type": "markdown",
   "id": "4ab75927",
   "metadata": {
    "heading_collapsed": true
   },
   "source": [
    "##  Format3：双输入文本+二分类任务\n",
    "- text1：其他实体拼接\n",
    "- text2：title+text\n",
    "- 待预测实体用’[E]‘在实体的左右边界进行标记"
   ]
  },
  {
   "cell_type": "code",
   "execution_count": null,
   "id": "97607fdb",
   "metadata": {
    "hidden": true
   },
   "outputs": [],
   "source": [
    "df3 = task_format3(df)\n",
    "train, valid = train_test_split(df3, test_size= 0.2, random_state=1234)\n",
    "double_text(train['id'], train['other_entity'], train['corpus'], train['label'], data_dir, 'train3')\n",
    "double_text(valid['id'], valid['other_entity'], valid['corpus'], valid['label'], data_dir, 'valid3')"
   ]
  },
  {
   "cell_type": "markdown",
   "id": "df365822",
   "metadata": {},
   "source": [
    "##  Format4：双输入文本+二分类任务+多任务\n",
    "- text1：其他实体拼接\n",
    "- text2：title+text\n",
    "- 待预测实体用’[E]‘在实体的左右边界进行标记\n",
    "- 任务1是实体负向，任务2是句子负向，用句子整体来辅助实体学习"
   ]
  },
  {
   "cell_type": "code",
   "execution_count": 21,
   "id": "7173eda3",
   "metadata": {},
   "outputs": [],
   "source": [
    "df4 = task_format4(df)\n",
    "train, valid = train_test_split(df4, test_size= 0.2, random_state=1234)\n",
    "double_text_double_label(train['id'], train['other_entity'], train['corpus'], train['label1'], train['label2'], data_dir, 'train4')\n",
    "double_text_double_label(valid['id'], valid['other_entity'], valid['corpus'], valid['label1'], train['label2'], data_dir, 'valid4')"
   ]
  },
  {
   "cell_type": "markdown",
   "id": "7d12bf1a",
   "metadata": {},
   "source": [
    "## TAPT样本"
   ]
  },
  {
   "cell_type": "code",
   "execution_count": 4,
   "id": "4b2d3480",
   "metadata": {},
   "outputs": [
    {
     "name": "stdout",
     "output_type": "stream",
     "text": [
      "           l_title       l_text     l_entity\n",
      "count  4982.000000  4982.000000  4982.000000\n",
      "mean     73.797270   197.142513     1.894420\n",
      "std      64.569119   331.566611     1.070536\n",
      "min       0.000000     0.000000     1.000000\n",
      "50%      60.000000   141.000000     2.000000\n",
      "75%     144.000000   179.000000     2.000000\n",
      "95%     157.000000   526.950000     4.000000\n",
      "99%     162.000000  1809.040000     6.000000\n",
      "max     343.000000  5812.000000    21.000000\n"
     ]
    }
   ],
   "source": [
    "test = data_process('./trainsample/Test_Data.csv')"
   ]
  },
  {
   "cell_type": "code",
   "execution_count": 6,
   "id": "0f904f0d",
   "metadata": {},
   "outputs": [],
   "source": [
    "df = pd.concat([test.loc[:,['merge_text','entity']], df.loc[:,['merge_text','entity']]])"
   ]
  },
  {
   "cell_type": "code",
   "execution_count": 11,
   "id": "82595769",
   "metadata": {},
   "outputs": [],
   "source": [
    "from process import task_whole_word_mlm\n",
    "from src.dataset.chinese_ref import single_text_with_ref\n",
    "df = task_whole_word_mlm(df)"
   ]
  },
  {
   "cell_type": "code",
   "execution_count": 13,
   "id": "8e4c6078",
   "metadata": {},
   "outputs": [],
   "source": [
    "single_text_with_ref(range(df.shape[0]), df['merge_text'].values, df['ref_ids'].values, './trainsample','train_mlm')"
   ]
  },
  {
   "cell_type": "code",
   "execution_count": null,
   "id": "d1422a3c",
   "metadata": {},
   "outputs": [],
   "source": []
  }
 ],
 "metadata": {
  "kernelspec": {
   "display_name": "py36_tf23",
   "language": "python",
   "name": "py36_tf23"
  },
  "toc": {
   "base_numbering": 1,
   "nav_menu": {},
   "number_sections": true,
   "sideBar": true,
   "skip_h1_title": false,
   "title_cell": "Table of Contents",
   "title_sidebar": "Contents",
   "toc_cell": false,
   "toc_position": {},
   "toc_section_display": true,
   "toc_window_display": false
  }
 },
 "nbformat": 4,
 "nbformat_minor": 5
}
