{
 "cells": [
  {
   "cell_type": "code",
   "execution_count": 14,
   "id": "979c4bf4",
   "metadata": {},
   "outputs": [],
   "source": [
    "from src.dataset.converter import single_text, double_text\n",
    "from process import * \n",
    "from sklearn.model_selection import train_test_split"
   ]
  },
  {
   "cell_type": "code",
   "execution_count": 15,
   "id": "e9f5f556",
   "metadata": {},
   "outputs": [
    {
     "name": "stdout",
     "output_type": "stream",
     "text": [
      "          negative      l_title       l_text     l_entity    l_kentity  \\\n",
      "count  4980.000000  4980.000000  4980.000000  4980.000000  4980.000000   \n",
      "mean      0.555221    72.532530   219.405823     1.872490     0.983333   \n",
      "std       0.496991    63.713498   446.521731     1.099766     1.159989   \n",
      "min       0.000000     0.000000     5.000000     1.000000     0.000000   \n",
      "50%       1.000000    56.000000   141.000000     2.000000     1.000000   \n",
      "75%       1.000000   144.000000   181.250000     2.000000     2.000000   \n",
      "95%       1.000000   156.000000   546.000000     4.000000     3.000000   \n",
      "99%       1.000000   161.210000  2432.460000     5.000000     4.000000   \n",
      "max       1.000000   201.000000  6872.000000    21.000000    18.000000   \n",
      "\n",
      "           l_other  \n",
      "count  4980.000000  \n",
      "mean      0.889157  \n",
      "std       1.077702  \n",
      "min      -1.000000  \n",
      "50%       1.000000  \n",
      "75%       1.000000  \n",
      "95%       3.000000  \n",
      "99%       5.000000  \n",
      "max      12.000000  \n"
     ]
    }
   ],
   "source": [
    "data_dir = './trainsample'\n",
    "df = data_process()"
   ]
  },
  {
   "cell_type": "markdown",
   "id": "8fa289c5",
   "metadata": {},
   "source": [
    "## Format1： 双输入文本+二分类任务\n",
    "- text1：实体\n",
    "- text2：title+text\n",
    "- 其他伴随实体都用[O]进行替换"
   ]
  },
  {
   "cell_type": "code",
   "execution_count": 11,
   "id": "27f11dc3",
   "metadata": {},
   "outputs": [
    {
     "name": "stdout",
     "output_type": "stream",
     "text": [
      "          negative      l_title       l_text     l_entity    l_kentity  \\\n",
      "count  4980.000000  4980.000000  4980.000000  4980.000000  4980.000000   \n",
      "mean      0.555221    72.532530   219.405823     1.872490     0.983333   \n",
      "std       0.496991    63.713498   446.521731     1.099766     1.159989   \n",
      "min       0.000000     0.000000     5.000000     1.000000     0.000000   \n",
      "50%       1.000000    56.000000   141.000000     2.000000     1.000000   \n",
      "75%       1.000000   144.000000   181.250000     2.000000     2.000000   \n",
      "95%       1.000000   156.000000   546.000000     4.000000     3.000000   \n",
      "99%       1.000000   161.210000  2432.460000     5.000000     4.000000   \n",
      "max       1.000000   201.000000  6872.000000    21.000000    18.000000   \n",
      "\n",
      "           l_other  \n",
      "count  4980.000000  \n",
      "mean      0.889157  \n",
      "std       1.077702  \n",
      "min      -1.000000  \n",
      "50%       1.000000  \n",
      "75%       1.000000  \n",
      "95%       3.000000  \n",
      "99%       5.000000  \n",
      "max      12.000000  \n"
     ]
    }
   ],
   "source": [
    "\n",
    "df1 = task_format1(df)\n",
    "train, valid = train_test_split(df1, test_size= 0.2, random_state=1234)\n",
    "train.to_csv('./trainsample/train.csv')\n",
    "valid.to_csv('./trainsample/valid.csv')\n",
    "\n",
    "double_text(train['id'], train['single_entity'], train['corpus'], train['label'], data_dir, 'train1')\n",
    "double_text(valid['id'], valid['single_entity'], valid['corpus'], valid['label'], data_dir, 'valid1')\n",
    "\n"
   ]
  },
  {
   "cell_type": "markdown",
   "id": "8044946b",
   "metadata": {},
   "source": [
    "##  Format2: 单输入文本+二分类任务\n",
    "- text：title+text\n",
    "- 待预测实体用’[E]‘在实体的左右边界进行标记，其他伴随实体都用[O]进行替换"
   ]
  },
  {
   "cell_type": "code",
   "execution_count": null,
   "id": "7343fa0a",
   "metadata": {},
   "outputs": [],
   "source": [
    "df2 = task_format2(df)\n",
    "train, valid = train_test_split(df2, test_size= 0.2, random_state=1234)\n",
    "single_text(train['id'], train['corpus'], train['label'], data_dir, 'train2')\n",
    "single_text(valid['id'], valid['corpus'], valid['label'], data_dir, 'valid2')\n"
   ]
  },
  {
   "cell_type": "markdown",
   "id": "4ab75927",
   "metadata": {},
   "source": [
    "##  Format3：双输入文本+二分类任务\n",
    "- text1：其他实体拼接\n",
    "- text2：title+text\n",
    "- 待预测实体用’[E]‘在实体的左右边界进行标记"
   ]
  },
  {
   "cell_type": "code",
   "execution_count": null,
   "id": "97607fdb",
   "metadata": {},
   "outputs": [],
   "source": [
    "df3 = task_format3(df)\n",
    "train, valid = train_test_split(df3, test_size= 0.2, random_state=1234)\n",
    "double_text(train['id'], train['other_entity'], train['corpus'], train['label'], data_dir, 'train3')\n",
    "double_text(valid['id'], valid['other_entity'], valid['corpus'], valid['label'], data_dir, 'valid3')"
   ]
  },
  {
   "cell_type": "markdown",
   "id": "df365822",
   "metadata": {},
   "source": [
    "##  Format4：双输入文本+二分类任务+多任务\n",
    "- text1：其他实体拼接\n",
    "- text2：title+text\n",
    "- 待预测实体用’[E]‘在实体的左右边界进行标记\n",
    "- 任务1是实体负向，任务2是句子负向，用句子整体来辅助实体学习"
   ]
  },
  {
   "cell_type": "code",
   "execution_count": 20,
   "id": "ac23d696",
   "metadata": {},
   "outputs": [],
   "source": [
    "import json \n",
    "def double_text_double_label(id_list, text_list1, text_list2, label1_list, label2_list, data_dir, output_file):\n",
    "    \"\"\"\n",
    "    双文本输入Iterable\n",
    "    生成{'text1':'', 'text2':'', 'label':''}\n",
    "    \"\"\"\n",
    "    Fmt = namedtuple('SingleText', ['id', 'text1', 'text2', 'label1', 'label2'])\n",
    "\n",
    "    with open(os.path.join(data_dir, output_file + '.txt'), 'w', encoding='utf-8') as f:\n",
    "        for i, t1, t2, l1, l2 in zip(id_list, text_list1, text_list2, label1_list, label2_list):\n",
    "            f.write(json.dumps(Fmt(i, t1, t2, l1, l2)._asdict(), ensure_ascii=False) + '\\n')\n",
    "\n"
   ]
  },
  {
   "cell_type": "code",
   "execution_count": 21,
   "id": "7173eda3",
   "metadata": {},
   "outputs": [],
   "source": [
    "df4 = task_format4(df)\n",
    "train, valid = train_test_split(df4, test_size= 0.2, random_state=1234)\n",
    "double_text_double_label(train['id'], train['other_entity'], train['corpus'], train['label1'], train['label2'], data_dir, 'train4')\n",
    "double_text_double_label(valid['id'], valid['other_entity'], valid['corpus'], valid['label1'], train['label2'], data_dir, 'valid4')"
   ]
  }
 ],
 "metadata": {
  "kernelspec": {
   "display_name": "py36_tf23",
   "language": "python",
   "name": "py36_tf23"
  },
  "language_info": {
   "codemirror_mode": {
    "name": "ipython",
    "version": 3
   },
   "file_extension": ".py",
   "mimetype": "text/x-python",
   "name": "python",
   "nbconvert_exporter": "python",
   "pygments_lexer": "ipython3",
   "version": "3.6.13"
  },
  "toc": {
   "base_numbering": 1,
   "nav_menu": {},
   "number_sections": true,
   "sideBar": true,
   "skip_h1_title": false,
   "title_cell": "Table of Contents",
   "title_sidebar": "Contents",
   "toc_cell": false,
   "toc_position": {},
   "toc_section_display": true,
   "toc_window_display": false
  }
 },
 "nbformat": 4,
 "nbformat_minor": 5
}
