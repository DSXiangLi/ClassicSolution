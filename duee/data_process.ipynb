{
 "cells": [
  {
   "cell_type": "code",
   "execution_count": 2,
   "metadata": {},
   "outputs": [],
   "source": [
    "from process import event_preprocess, argument_preprocess,load_event, load_argument, Schema2Label\n",
    "from src.seqlabel_utils import pos2bio\n",
    "from src.preprocess.str_utils import get_useless_chars\n",
    "from process import text_preprocess, gen_pos\n",
    "from src.dataset.converter import single_text, double_text\n",
    "import pandas as pd \n",
    "import ast \n",
    "import numpy as np "
   ]
  },
  {
   "cell_type": "code",
   "execution_count": 3,
   "metadata": {},
   "outputs": [
    {
     "data": {
      "text/plain": [
       "((11908, 3), (1492, 3), (34904, 2))"
      ]
     },
     "execution_count": 3,
     "metadata": {},
     "output_type": "execute_result"
    }
   ],
   "source": [
    "train_e = load_event('./trainsample/duee_train.json')\n",
    "valid_e = load_event('./trainsample/duee_dev.json')\n",
    "test_e = load_event('./trainsample/duee_test2.json')\n",
    "schema = Schema2Label('./trainsample/duee_event_schema.json')\n",
    "train_e.shape, valid_e.shape, test_e.shape"
   ]
  },
  {
   "cell_type": "code",
   "execution_count": 3,
   "metadata": {},
   "outputs": [],
   "source": [
    "useless_chars = get_useless_chars(train_e['text'].values.tolist() +\\\n",
    "                                  valid_e['text'].values.tolist() +\\\n",
    "                                  test_e['text'].values.tolist())"
   ]
  },
  {
   "cell_type": "markdown",
   "metadata": {},
   "source": [
    "## pipeline: EventType + Arguments"
   ]
  },
  {
   "cell_type": "code",
   "execution_count": 4,
   "metadata": {},
   "outputs": [
    {
     "name": "stdout",
     "output_type": "stream",
     "text": [
      "0 out of 11908 trigger not match\n",
      "0 out of 11908 even pos exceed text line\n",
      "0 out of 1492 trigger not match\n",
      "0 out of 1492 even pos exceed text line\n"
     ]
    }
   ],
   "source": [
    "train_e = event_preprocess(train_e, useless_chars)\n",
    "valid_e = event_preprocess(valid_e, useless_chars)\n",
    "test_e = event_preprocess(test_e, useless_chars)"
   ]
  },
  {
   "cell_type": "markdown",
   "metadata": {},
   "source": [
    "### 方案1：Trigger抽取序列标注问题"
   ]
  },
  {
   "cell_type": "code",
   "execution_count": null,
   "metadata": {},
   "outputs": [],
   "source": [
    "from src.dataset.converter import single_text\n",
    "single_text(train_e['id'].values, train_e['clean_text'].values, train_e['event_pos'].values,\n",
    "            './trainsample','train_event_bio')\n",
    "single_text(valid_e['id'].values, valid_e['clean_text'].values, valid_e['event_pos'].values, \n",
    "            './trainsample','valid_event_bio')\n",
    "single_text(test_e['id'].values, test_e['clean_text'].values, None ,'./trainsample','test_event_bio')"
   ]
  },
  {
   "cell_type": "markdown",
   "metadata": {},
   "source": [
    "### 事件抽取方案2: 多标签分类问题"
   ]
  },
  {
   "cell_type": "code",
   "execution_count": null,
   "metadata": {},
   "outputs": [],
   "source": [
    "single_text(train_e['id'].values, train_e['clean_text'].values, train_e['event_label'].values,\n",
    "            './trainsample','train_event_cls')\n",
    "single_text(valid_e['id'].values, valid_e['clean_text'].values, valid_e['event_label'].values, \n",
    "            './trainsample','valid_event_cls')\n",
    "single_text(test_e['id'].values, test_e['clean_text'].values, None, './trainsample','test_event_cls')"
   ]
  },
  {
   "cell_type": "markdown",
   "metadata": {},
   "source": [
    "### 事件抽取方案3：column selection"
   ]
  },
  {
   "cell_type": "code",
   "execution_count": 9,
   "metadata": {},
   "outputs": [
    {
     "data": {
      "text/plain": [
       "65"
      ]
     },
     "execution_count": 9,
     "metadata": {},
     "output_type": "execute_result"
    }
   ],
   "source": [
    "len(schema.event_label)"
   ]
  },
  {
   "cell_type": "code",
   "execution_count": 15,
   "metadata": {},
   "outputs": [
    {
     "data": {
      "text/plain": [
       "{'财经/交易-出售/收购': 0,\n",
       " '财经/交易-跌停': 1,\n",
       " '财经/交易-加息': 2,\n",
       " '财经/交易-降价': 3,\n",
       " '财经/交易-降息': 4,\n",
       " '财经/交易-融资': 5,\n",
       " '财经/交易-上市': 6,\n",
       " '财经/交易-涨价': 7,\n",
       " '财经/交易-涨停': 8,\n",
       " '产品行为-发布': 9,\n",
       " '产品行为-获奖': 10,\n",
       " '产品行为-上映': 11,\n",
       " '产品行为-下架': 12,\n",
       " '产品行为-召回': 13,\n",
       " '交往-道歉': 14,\n",
       " '交往-点赞': 15,\n",
       " '交往-感谢': 16,\n",
       " '交往-会见': 17,\n",
       " '交往-探班': 18,\n",
       " '竞赛行为-夺冠': 19,\n",
       " '竞赛行为-晋级': 20,\n",
       " '竞赛行为-禁赛': 21,\n",
       " '竞赛行为-胜负': 22,\n",
       " '竞赛行为-退赛': 23,\n",
       " '竞赛行为-退役': 24,\n",
       " '人生-产子/女': 25,\n",
       " '人生-出轨': 26,\n",
       " '人生-订婚': 27,\n",
       " '人生-分手': 28,\n",
       " '人生-怀孕': 29,\n",
       " '人生-婚礼': 30,\n",
       " '人生-结婚': 31,\n",
       " '人生-离婚': 32,\n",
       " '人生-庆生': 33,\n",
       " '人生-求婚': 34,\n",
       " '人生-失联': 35,\n",
       " '人生-死亡': 36,\n",
       " '司法行为-罚款': 37,\n",
       " '司法行为-拘捕': 38,\n",
       " '司法行为-举报': 39,\n",
       " '司法行为-开庭': 40,\n",
       " '司法行为-立案': 41,\n",
       " '司法行为-起诉': 42,\n",
       " '司法行为-入狱': 43,\n",
       " '司法行为-约谈': 44,\n",
       " '灾害/意外-爆炸': 45,\n",
       " '灾害/意外-车祸': 46,\n",
       " '灾害/意外-地震': 47,\n",
       " '灾害/意外-洪灾': 48,\n",
       " '灾害/意外-起火': 49,\n",
       " '灾害/意外-坍/垮塌': 50,\n",
       " '灾害/意外-袭击': 51,\n",
       " '灾害/意外-坠机': 52,\n",
       " '组织关系-裁员': 53,\n",
       " '组织关系-辞/离职': 54,\n",
       " '组织关系-加盟': 55,\n",
       " '组织关系-解雇': 56,\n",
       " '组织关系-解散': 57,\n",
       " '组织关系-解约': 58,\n",
       " '组织关系-停职': 59,\n",
       " '组织关系-退出': 60,\n",
       " '组织行为-罢工': 61,\n",
       " '组织行为-闭幕': 62,\n",
       " '组织行为-开幕': 63,\n",
       " '组织行为-游行': 64}"
      ]
     },
     "execution_count": 15,
     "metadata": {},
     "output_type": "execute_result"
    }
   ],
   "source": [
    "schema.event_label"
   ]
  },
  {
   "cell_type": "code",
   "execution_count": 19,
   "metadata": {
    "pycharm": {
     "name": "#%%\n"
    }
   },
   "outputs": [
    {
     "data": {
      "text/plain": [
       "count    1492.000000\n",
       "mean       58.218499\n",
       "std        45.147101\n",
       "min         6.000000\n",
       "25%        27.000000\n",
       "50%        38.000000\n",
       "75%        79.000000\n",
       "max       333.000000\n",
       "Name: text, dtype: float64"
      ]
     },
     "execution_count": 19,
     "metadata": {},
     "output_type": "execute_result"
    }
   ],
   "source": [
    "valid_e['text'].map(lambda x: len(x)).describe()"
   ]
  },
  {
   "cell_type": "code",
   "execution_count": 18,
   "metadata": {},
   "outputs": [
    {
     "data": {
      "text/plain": [
       "count    11908.000000\n",
       "mean        57.011253\n",
       "std         42.758747\n",
       "min          6.000000\n",
       "25%         27.000000\n",
       "50%         38.000000\n",
       "75%         77.000000\n",
       "max        378.000000\n",
       "Name: text, dtype: float64"
      ]
     },
     "execution_count": 18,
     "metadata": {},
     "output_type": "execute_result"
    }
   ],
   "source": [
    "train_e['text'].map(lambda x: len(x)).describe()"
   ]
  },
  {
   "cell_type": "code",
   "execution_count": 17,
   "metadata": {},
   "outputs": [
    {
     "data": {
      "text/plain": [
       "count    34904.000000\n",
       "mean        49.621619\n",
       "std         36.864349\n",
       "min          5.000000\n",
       "25%         26.000000\n",
       "50%         34.000000\n",
       "75%         64.000000\n",
       "max        564.000000\n",
       "Name: text, dtype: float64"
      ]
     },
     "execution_count": 17,
     "metadata": {},
     "output_type": "execute_result"
    }
   ],
   "source": [
    "test_e['text'].map(lambda x: len(x)).describe()"
   ]
  },
  {
   "cell_type": "code",
   "execution_count": null,
   "outputs": [],
   "source": [
    "enhancement = ''\n",
    "pos = 1 \n",
    "pos_list = [pos]\n",
    "\n",
    "enhancement = []\n",
    "for event in schema.event_label:\n",
    "    event = event.split('-')[1]\n",
    "    enhancement.append('[unused1]' + event + '[unused2]')\n",
    "    pos+=len(event)+2\n",
    "    pos_list.append(pos)\n",
    "enhancement = ''.join(enhancement)   \n",
    "print(','.join([str(i) for i in pos_list[:-1]]))\n",
    "print(enhancement)"
   ],
   "metadata": {
    "collapsed": false,
    "pycharm": {
     "name": "#%%\n"
    }
   }
  },
  {
   "cell_type": "code",
   "execution_count": null,
   "outputs": [],
   "source": [
    "510-269"
   ],
   "metadata": {
    "collapsed": false,
    "pycharm": {
     "name": "#%%\n"
    }
   }
  },
  {
   "cell_type": "code",
   "execution_count": null,
   "outputs": [],
   "source": [
    "valid_e['text'].map(lambda x: len(x)>241).sum()"
   ],
   "metadata": {
    "collapsed": false,
    "pycharm": {
     "name": "#%%\n"
    }
   }
  },
  {
   "cell_type": "code",
   "execution_count": null,
   "outputs": [],
   "source": [
    "double_text(train_e['id'].values, [enhancement] * train_e.shape[0], \n",
    "            train_e['clean_text'].values, train_e['event_label'].values,\n",
    "            './trainsample','train_event_slot')\n",
    "double_text(valid_e['id'].values, [enhancement] * valid_e.shape[0],\n",
    "            valid_e['clean_text'].values, valid_e['event_label'].values, \n",
    "            './trainsample','valid_event_slot')\n",
    "double_text(test_e['id'].values, [enhancement] * test_e.shape[0], \n",
    "            test_e['clean_text'].values, None, './trainsample','test_event_slot')"
   ],
   "metadata": {
    "collapsed": false,
    "pycharm": {
     "name": "#%%\n"
    }
   }
  },
  {
   "cell_type": "markdown",
   "source": [
    "### Argument抽取"
   ],
   "metadata": {
    "collapsed": false
   }
  },
  {
   "cell_type": "code",
   "execution_count": 13,
   "metadata": {},
   "outputs": [
    {
     "name": "stdout",
     "output_type": "stream",
     "text": [
      "1,8,12,16,20,24,28,32,36,40,44,48,52,56,60,64,68,72,76,80,84,88,92,96,100,104,110,114,118,122,126,130,134,138,142,146,150,154,158,162,166,170,174,178,182,186,190,194,198,202,206,212,216,220,224,230,234,238,242,246,250,254,258,262,266\n",
      "[unused1]出售/收购[unused2][unused1]跌停[unused2][unused1]加息[unused2][unused1]降价[unused2][unused1]降息[unused2][unused1]融资[unused2][unused1]上市[unused2][unused1]涨价[unused2][unused1]涨停[unused2][unused1]发布[unused2][unused1]获奖[unused2][unused1]上映[unused2][unused1]下架[unused2][unused1]召回[unused2][unused1]道歉[unused2][unused1]点赞[unused2][unused1]感谢[unused2][unused1]会见[unused2][unused1]探班[unused2][unused1]夺冠[unused2][unused1]晋级[unused2][unused1]禁赛[unused2][unused1]胜负[unused2][unused1]退赛[unused2][unused1]退役[unused2][unused1]产子/女[unused2][unused1]出轨[unused2][unused1]订婚[unused2][unused1]分手[unused2][unused1]怀孕[unused2][unused1]婚礼[unused2][unused1]结婚[unused2][unused1]离婚[unused2][unused1]庆生[unused2][unused1]求婚[unused2][unused1]失联[unused2][unused1]死亡[unused2][unused1]罚款[unused2][unused1]拘捕[unused2][unused1]举报[unused2][unused1]开庭[unused2][unused1]立案[unused2][unused1]起诉[unused2][unused1]入狱[unused2][unused1]约谈[unused2][unused1]爆炸[unused2][unused1]车祸[unused2][unused1]地震[unused2][unused1]洪灾[unused2][unused1]起火[unused2][unused1]坍/垮塌[unused2][unused1]袭击[unused2][unused1]坠机[unused2][unused1]裁员[unused2][unused1]辞/离职[unused2][unused1]加盟[unused2][unused1]解雇[unused2][unused1]解散[unused2][unused1]解约[unused2][unused1]停职[unused2][unused1]退出[unused2][unused1]罢工[unused2][unused1]闭幕[unused2][unused1]开幕[unused2][unused1]游行[unused2]\n"
     ]
    }
   ],
   "source": [
    "train_a = load_argument('./trainsample/duee_train.json')\n",
    "valid_a = load_argument('./trainsample/duee_dev.json')\n",
    "train_a.shape, valid_a.shape, test_a.shape"
   ]
  },
  {
   "cell_type": "code",
   "execution_count": 20,
   "metadata": {},
   "outputs": [
    {
     "data": {
      "text/plain": [
       "241"
      ]
     },
     "execution_count": 20,
     "metadata": {},
     "output_type": "execute_result"
    }
   ],
   "source": [
    "510-269"
   ]
  },
  {
   "cell_type": "code",
   "execution_count": 22,
   "metadata": {},
   "outputs": [
    {
     "data": {
      "text/plain": [
       "8"
      ]
     },
     "execution_count": 22,
     "metadata": {},
     "output_type": "execute_result"
    }
   ],
   "source": [
    "valid_e['text'].map(lambda x: len(x)>241).sum()"
   ]
  },
  {
   "cell_type": "code",
   "execution_count": 7,
   "metadata": {},
   "outputs": [],
   "source": [
    "double_text(train_e['id'].values, [enhancement] * train_e.shape[0], \n",
    "            train_e['clean_text'].values, train_e['event_label'].values,\n",
    "            './trainsample','train_event_slot')\n",
    "double_text(valid_e['id'].values, [enhancement] * valid_e.shape[0],\n",
    "            valid_e['clean_text'].values, valid_e['event_label'].values, \n",
    "            './trainsample','valid_event_slot')\n",
    "double_text(test_e['id'].values, [enhancement] * test_e.shape[0], \n",
    "            test_e['clean_text'].values, None, './trainsample','test_event_slot')"
   ]
  },
  {
   "cell_type": "markdown",
   "metadata": {},
   "source": [
    "### Argument抽取"
   ]
  },
  {
   "cell_type": "code",
   "execution_count": null,
   "metadata": {},
   "outputs": [],
   "source": [
    "train_a = load_argument('./trainsample/duee_train.json')\n",
    "valid_a = load_argument('./trainsample/duee_dev.json')\n",
    "train_a.shape, valid_a.shape, test_a.shape"
   ]
  },
  {
   "cell_type": "code",
   "execution_count": null,
   "metadata": {},
   "outputs": [],
   "source": [
    "train_a = argument_preprocess(train_a, useless_chars)\n",
    "valid_a = argument_preprocess(valid_a, useless_chars)"
   ]
  },
  {
   "cell_type": "code",
   "execution_count": null,
   "metadata": {},
   "outputs": [],
   "source": [
    "test_a = pd.read_csv('./trainsample/test_event_pred.csv',index_col=None)\n",
    "test_a['pred'] = test_a['pred'].map(lambda x: ast.literal_eval(x))\n",
    "test_a['pred_label'] = test_a['pred'].map(lambda x: extract_multilabel(x, {j:i for i,j in schema.event_label.items()}, 0.5, greedy=True))\n",
    "test_a = test_a.explode('pred_label')\n",
    "test_a['event_text'] = test_a.apply(lambda x: x.pred_label + '-' + x.text_clean, axis=1)\n"
   ]
  },
  {
   "cell_type": "code",
   "execution_count": null,
   "metadata": {},
   "outputs": [],
   "source": [
    "single_text(train_a['id'].values, train_a['event_text'].values, train_a['argument_bio_label'].values,\n",
    "            './trainsample','train_argument')\n",
    "single_text(valid_a['id'].values, valid_a['event_text'].values, valid_a['argument_bio_label'].values, \n",
    "            './trainsample','valid_argument')\n",
    "single_text(test_a['id'].values, test_a['event_text'].values, None, './trainsample','test_argument')"
   ]
  }
 ],
 "metadata": {
  "kernelspec": {
   "display_name": "Python 3 (ipykernel)",
   "language": "python",
   "name": "python3"
  },
  "language_info": {
   "codemirror_mode": {
    "name": "ipython",
    "version": 3
   },
   "file_extension": ".py",
   "mimetype": "text/x-python",
   "name": "python",
   "nbconvert_exporter": "python",
   "pygments_lexer": "ipython3",
   "version": "3.9.13"
  },
  "toc": {
   "base_numbering": 1,
   "nav_menu": {},
   "number_sections": true,
   "sideBar": true,
   "skip_h1_title": false,
   "title_cell": "Table of Contents",
   "title_sidebar": "Contents",
   "toc_cell": false,
   "toc_position": {},
   "toc_section_display": true,
   "toc_window_display": false
  }
 },
 "nbformat": 4,
 "nbformat_minor": 1
}