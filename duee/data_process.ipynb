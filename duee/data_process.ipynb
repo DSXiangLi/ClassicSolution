{
 "cells": [
  {
   "cell_type": "code",
   "execution_count": 1,
   "metadata": {},
   "outputs": [],
   "source": [
    "from process import event_preprocess, argument_preprocess,load_event, load_argument, Schema2Label\n",
    "from src.seqlabel_utils import pos2bio\n",
    "from src.preprocess.str_utils import get_useless_chars\n",
    "from process import text_preprocess, gen_pos\n",
    "from src.dataset.converter import single_text, double_text\n",
    "from evaluation import extract_multilabel\n",
    "import pandas as pd \n",
    "import numpy as np \n",
    "import ast \n",
    "import re \n",
    "pd.set_option('display.max_colwidth', None)"
   ]
  },
  {
   "cell_type": "code",
   "execution_count": 2,
   "metadata": {},
   "outputs": [
    {
     "data": {
      "text/plain": [
       "((11908, 3), (1492, 3), (34904, 2))"
      ]
     },
     "execution_count": 2,
     "metadata": {},
     "output_type": "execute_result"
    }
   ],
   "source": [
    "train_e = load_event('./trainsample/duee_train.json')\n",
    "valid_e = load_event('./trainsample/duee_dev.json')\n",
    "test_e = load_event('./trainsample/duee_test2.json')\n",
    "schema = Schema2Label('./trainsample/duee_event_schema.json')\n",
    "train_e.shape, valid_e.shape, test_e.shape"
   ]
  },
  {
   "cell_type": "code",
   "execution_count": 3,
   "metadata": {
    "pycharm": {
     "name": "#%%\n"
    }
   },
   "outputs": [],
   "source": [
    "useless_chars = get_useless_chars(train_e['text'].values.tolist() +\\\n",
    "                                  valid_e['text'].values.tolist() +\\\n",
    "                                  test_e['text'].values.tolist())"
   ]
  },
  {
   "cell_type": "markdown",
   "metadata": {
    "pycharm": {
     "name": "#%% md\n"
    }
   },
   "source": [
    "## pipeline"
   ]
  },
  {
   "cell_type": "markdown",
   "metadata": {
    "pycharm": {
     "name": "#%% md\n"
    }
   },
   "source": [
    "### 事件抽取方案1：Trigger Sequence Labelling"
   ]
  },
  {
   "cell_type": "code",
   "execution_count": 4,
   "metadata": {},
   "outputs": [
    {
     "name": "stdout",
     "output_type": "stream",
     "text": [
      "0 out of 11908 not match\n",
      "0 out of 1492 not match\n"
     ]
    }
   ],
   "source": [
    "train_e = event_preprocess(train_e, useless_chars)\n",
    "valid_e = event_preprocess(valid_e, useless_chars)\n",
    "test_e = event_preprocess(test_e, useless_chars)\n",
    "valid_e.to_csv('./trainsample/valid_event.csv')\n",
    "train_e.to_csv('./trainsample/train_event.csv')\n",
    "test_e.to_csv('./trainsample/test_event.csv')"
   ]
  },
  {
   "cell_type": "markdown",
   "metadata": {},
   "source": [
    "from src.dataset.converter import single_text\n",
    "single_text(train_e['id'].values, train_e['clean_text'].values, train_e['event_bio_label'].values,\n",
    "            './trainsample','train_event_bio')\n",
    "single_text(valid_e['id'].values, valid_e['clean_text'].values, valid_e['event_bio_label'].values, \n",
    "            './trainsample','valid_event_bio')\n",
    "single_text(test_e['id'].values, test_e['clean_text'].values, None ,'./trainsample','test_event_bio')"
   ]
  },
  {
   "cell_type": "code",
   "execution_count": 25,
   "metadata": {},
   "outputs": [
    {
     "data": {
      "text/plain": [
       "'裁员'"
      ]
     },
     "execution_count": 25,
     "metadata": {},
     "output_type": "execute_result"
    }
   ],
   "source": [
    "train_e['clean_text'][4][13:15]"
   ]
  },
  {
   "cell_type": "code",
   "execution_count": 26,
   "metadata": {},
   "outputs": [
    {
     "data": {
      "text/html": [
       "<div>\n",
       "<style scoped>\n",
       "    .dataframe tbody tr th:only-of-type {\n",
       "        vertical-align: middle;\n",
       "    }\n",
       "\n",
       "    .dataframe tbody tr th {\n",
       "        vertical-align: top;\n",
       "    }\n",
       "\n",
       "    .dataframe thead th {\n",
       "        text-align: right;\n",
       "    }\n",
       "</style>\n",
       "<table border=\"1\" class=\"dataframe\">\n",
       "  <thead>\n",
       "    <tr style=\"text-align: right;\">\n",
       "      <th></th>\n",
       "      <th>id</th>\n",
       "      <th>text</th>\n",
       "      <th>event_type</th>\n",
       "      <th>trigger</th>\n",
       "      <th>arguments</th>\n",
       "      <th>clean_text</th>\n",
       "      <th>pos_map</th>\n",
       "      <th>event_text</th>\n",
       "      <th>arguments_adjust</th>\n",
       "      <th>arguments_pos</th>\n",
       "      <th>argument_bio_label</th>\n",
       "    </tr>\n",
       "  </thead>\n",
       "  <tbody>\n",
       "    <tr>\n",
       "      <th>0</th>\n",
       "      <td>409389c96efe78d6af1c86e0450fd2d7</td>\n",
       "      <td>雀巢裁员4000人:时代抛弃你时,连招呼都不会打!</td>\n",
       "      <td>组织关系-裁员</td>\n",
       "      <td>裁员</td>\n",
       "      <td>[[裁员方, 雀巢, 0], [裁员人数, 4000人, 4]]</td>\n",
       "      <td>雀巢裁员4000人:时代抛弃你时,连招呼都不会打!</td>\n",
       "      <td>{0: 0, 1: 1, 2: 2, 3: 3, 4: 4, 5: 5, 6: 6, 7: ...</td>\n",
       "      <td>组织关系-裁员[SEP]雀巢裁员4000人:时代抛弃你时,连招呼都不会打!</td>\n",
       "      <td>[[裁员方, 雀巢, 12], [裁员人数, 4000人, 16]]</td>\n",
       "      <td>[[裁员方, 12, 13], [裁员人数, 16, 20]]</td>\n",
       "      <td>[O, O, O, O, O, O, O, O, O, O, O, O, B-裁员方, I-...</td>\n",
       "    </tr>\n",
       "    <tr>\n",
       "      <th>1</th>\n",
       "      <td>5aec2b5b759c5f8f42f9c0156eb3c924</td>\n",
       "      <td>美国“未来为”子公司大幅度裁员,这是为什么呢?任正非正式回应</td>\n",
       "      <td>组织关系-裁员</td>\n",
       "      <td>裁员</td>\n",
       "      <td>[[裁员方, 美国“未来为”子公司, 0]]</td>\n",
       "      <td>美国“未来为”子公司大幅度裁员,这是为什么呢?任正非正式回应</td>\n",
       "      <td>{0: 0, 1: 1, 2: 2, 3: 3, 4: 4, 5: 5, 6: 6, 7: ...</td>\n",
       "      <td>组织关系-裁员[SEP]美国“未来为”子公司大幅度裁员,这是为什么呢?任正非正式回应</td>\n",
       "      <td>[[裁员方, 美国“未来为”子公司, 12]]</td>\n",
       "      <td>[[裁员方, 12, 21]]</td>\n",
       "      <td>[O, O, O, O, O, O, O, O, O, O, O, O, B-裁员方, I-...</td>\n",
       "    </tr>\n",
       "    <tr>\n",
       "      <th>2</th>\n",
       "      <td>82c4db0b0b209565485a1776b6f1b580</td>\n",
       "      <td>这一全球巨头“凉凉” “捅刀”华为后 裁员5000 现市值缩水800亿</td>\n",
       "      <td>组织关系-裁员</td>\n",
       "      <td>裁员</td>\n",
       "      <td>[[裁员人数, 5000, 21]]</td>\n",
       "      <td>这一全球巨头“凉凉”“捅刀”华为后裁员5000现市值缩水800亿</td>\n",
       "      <td>{0: 0, 1: 1, 2: 2, 3: 3, 4: 4, 5: 5, 6: 6, 7: ...</td>\n",
       "      <td>组织关系-裁员[SEP]这一全球巨头“凉凉”“捅刀”华为后裁员5000现市值缩水800亿</td>\n",
       "      <td>[[裁员人数, 5000, 31]]</td>\n",
       "      <td>[[裁员人数, 31, 34]]</td>\n",
       "      <td>[O, O, O, O, O, O, O, O, O, O, O, O, O, O, O, ...</td>\n",
       "    </tr>\n",
       "    <tr>\n",
       "      <th>3</th>\n",
       "      <td>1f0eac3455f94c9d93dbacc92bbf4aec</td>\n",
       "      <td>被证实将再裁员1800人 AT&amp;T在为落后的经营模式买单</td>\n",
       "      <td>组织关系-裁员</td>\n",
       "      <td>裁员</td>\n",
       "      <td>[[裁员人数, 1800人, 7], [裁员方, AT&amp;T, 13]]</td>\n",
       "      <td>被证实将再裁员1800人AT&amp;T在为落后的经营模式买单</td>\n",
       "      <td>{0: 0, 1: 1, 2: 2, 3: 3, 4: 4, 5: 5, 6: 6, 7: ...</td>\n",
       "      <td>组织关系-裁员[SEP]被证实将再裁员1800人AT&amp;T在为落后的经营模式买单</td>\n",
       "      <td>[[裁员人数, 1800人, 19], [裁员方, AT&amp;T, 24]]</td>\n",
       "      <td>[[裁员人数, 19, 23], [裁员方, 24, 27]]</td>\n",
       "      <td>[O, O, O, O, O, O, O, O, O, O, O, O, O, O, O, ...</td>\n",
       "    </tr>\n",
       "    <tr>\n",
       "      <th>4</th>\n",
       "      <td>d5b9a75b8d1dd37f07667ed72bf69c4f</td>\n",
       "      <td>又一网约车巨头倒下:三个月裁员835名员工,滴滴又该何去何从</td>\n",
       "      <td>组织关系-裁员</td>\n",
       "      <td>裁员</td>\n",
       "      <td>[[裁员人数, 835名员工, 15]]</td>\n",
       "      <td>又一网约车巨头倒下:三个月裁员835名员工,滴滴又该何去何从</td>\n",
       "      <td>{0: 0, 1: 1, 2: 2, 3: 3, 4: 4, 5: 5, 6: 6, 7: ...</td>\n",
       "      <td>组织关系-裁员[SEP]又一网约车巨头倒下:三个月裁员835名员工,滴滴又该何去何从</td>\n",
       "      <td>[[裁员人数, 835名员工, 27]]</td>\n",
       "      <td>[[裁员人数, 27, 32]]</td>\n",
       "      <td>[O, O, O, O, O, O, O, O, O, O, O, O, O, O, O, ...</td>\n",
       "    </tr>\n",
       "  </tbody>\n",
       "</table>\n",
       "</div>"
      ],
      "text/plain": [
       "                                 id                                 text  \\\n",
       "0  409389c96efe78d6af1c86e0450fd2d7            雀巢裁员4000人:时代抛弃你时,连招呼都不会打!   \n",
       "1  5aec2b5b759c5f8f42f9c0156eb3c924       美国“未来为”子公司大幅度裁员,这是为什么呢?任正非正式回应   \n",
       "2  82c4db0b0b209565485a1776b6f1b580  这一全球巨头“凉凉” “捅刀”华为后 裁员5000 现市值缩水800亿   \n",
       "3  1f0eac3455f94c9d93dbacc92bbf4aec         被证实将再裁员1800人 AT&T在为落后的经营模式买单   \n",
       "4  d5b9a75b8d1dd37f07667ed72bf69c4f       又一网约车巨头倒下:三个月裁员835名员工,滴滴又该何去何从   \n",
       "\n",
       "  event_type trigger                            arguments  \\\n",
       "0    组织关系-裁员      裁员     [[裁员方, 雀巢, 0], [裁员人数, 4000人, 4]]   \n",
       "1    组织关系-裁员      裁员               [[裁员方, 美国“未来为”子公司, 0]]   \n",
       "2    组织关系-裁员      裁员                   [[裁员人数, 5000, 21]]   \n",
       "3    组织关系-裁员      裁员  [[裁员人数, 1800人, 7], [裁员方, AT&T, 13]]   \n",
       "4    组织关系-裁员      裁员                 [[裁员人数, 835名员工, 15]]   \n",
       "\n",
       "                         clean_text  \\\n",
       "0         雀巢裁员4000人:时代抛弃你时,连招呼都不会打!   \n",
       "1    美国“未来为”子公司大幅度裁员,这是为什么呢?任正非正式回应   \n",
       "2  这一全球巨头“凉凉”“捅刀”华为后裁员5000现市值缩水800亿   \n",
       "3       被证实将再裁员1800人AT&T在为落后的经营模式买单   \n",
       "4    又一网约车巨头倒下:三个月裁员835名员工,滴滴又该何去何从   \n",
       "\n",
       "                                             pos_map  \\\n",
       "0  {0: 0, 1: 1, 2: 2, 3: 3, 4: 4, 5: 5, 6: 6, 7: ...   \n",
       "1  {0: 0, 1: 1, 2: 2, 3: 3, 4: 4, 5: 5, 6: 6, 7: ...   \n",
       "2  {0: 0, 1: 1, 2: 2, 3: 3, 4: 4, 5: 5, 6: 6, 7: ...   \n",
       "3  {0: 0, 1: 1, 2: 2, 3: 3, 4: 4, 5: 5, 6: 6, 7: ...   \n",
       "4  {0: 0, 1: 1, 2: 2, 3: 3, 4: 4, 5: 5, 6: 6, 7: ...   \n",
       "\n",
       "                                     event_text  \\\n",
       "0         组织关系-裁员[SEP]雀巢裁员4000人:时代抛弃你时,连招呼都不会打!   \n",
       "1    组织关系-裁员[SEP]美国“未来为”子公司大幅度裁员,这是为什么呢?任正非正式回应   \n",
       "2  组织关系-裁员[SEP]这一全球巨头“凉凉”“捅刀”华为后裁员5000现市值缩水800亿   \n",
       "3       组织关系-裁员[SEP]被证实将再裁员1800人AT&T在为落后的经营模式买单   \n",
       "4    组织关系-裁员[SEP]又一网约车巨头倒下:三个月裁员835名员工,滴滴又该何去何从   \n",
       "\n",
       "                       arguments_adjust                    arguments_pos  \\\n",
       "0    [[裁员方, 雀巢, 12], [裁员人数, 4000人, 16]]  [[裁员方, 12, 13], [裁员人数, 16, 20]]   \n",
       "1               [[裁员方, 美国“未来为”子公司, 12]]                  [[裁员方, 12, 21]]   \n",
       "2                    [[裁员人数, 5000, 31]]                 [[裁员人数, 31, 34]]   \n",
       "3  [[裁员人数, 1800人, 19], [裁员方, AT&T, 24]]  [[裁员人数, 19, 23], [裁员方, 24, 27]]   \n",
       "4                  [[裁员人数, 835名员工, 27]]                 [[裁员人数, 27, 32]]   \n",
       "\n",
       "                                  argument_bio_label  \n",
       "0  [O, O, O, O, O, O, O, O, O, O, O, O, B-裁员方, I-...  \n",
       "1  [O, O, O, O, O, O, O, O, O, O, O, O, B-裁员方, I-...  \n",
       "2  [O, O, O, O, O, O, O, O, O, O, O, O, O, O, O, ...  \n",
       "3  [O, O, O, O, O, O, O, O, O, O, O, O, O, O, O, ...  \n",
       "4  [O, O, O, O, O, O, O, O, O, O, O, O, O, O, O, ...  "
      ]
     },
     "execution_count": 26,
     "metadata": {},
     "output_type": "execute_result"
    }
   ],
   "source": [
    "train_a.head()"
   ]
  },
  {
   "cell_type": "code",
   "execution_count": null,
   "metadata": {},
   "outputs": [],
   "source": []
  }
 ],
 "metadata": {
  "kernelspec": {
   "display_name": "Python 3 (ipykernel)",
   "language": "python",
   "name": "python3"
  },
  "language_info": {
   "codemirror_mode": {
    "name": "ipython",
    "version": 3
   },
   "file_extension": ".py",
   "mimetype": "text/x-python",
   "name": "python",
   "nbconvert_exporter": "python",
   "pygments_lexer": "ipython3",
   "version": "3.9.13"
  },
  "toc": {
   "base_numbering": 1,
   "nav_menu": {},
   "number_sections": true,
   "sideBar": true,
   "skip_h1_title": false,
   "title_cell": "Table of Contents",
   "title_sidebar": "Contents",
   "toc_cell": false,
   "toc_position": {},
   "toc_section_display": true,
   "toc_window_display": false
  }
 },
 "nbformat": 4,
 "nbformat_minor": 1
}