{
 "cells": [
  {
   "cell_type": "code",
   "execution_count": 2,
   "metadata": {},
   "outputs": [],
   "source": [
    "from process import event_preprocess, argument_preprocess,load_event, load_argument, Schema2Label\n",
    "from src.seqlabel_utils import pos2bio\n",
    "from src.preprocess.str_utils import get_useless_chars\n",
    "from process import text_preprocess, gen_pos\n",
    "from src.dataset.converter import single_text, double_text"
   ]
  },
  {
   "cell_type": "code",
   "execution_count": 8,
   "metadata": {},
   "outputs": [
    {
     "data": {
      "text/plain": [
       "((11908, 3), (1492, 3), (34904, 2))"
      ]
     },
     "execution_count": 8,
     "metadata": {},
     "output_type": "execute_result"
    }
   ],
   "source": [
    "train_e = load_event('./trainsample/duee_train.json')\n",
    "valid_e = load_event('./trainsample/duee_dev.json')\n",
    "test_e = load_event('./trainsample/duee_test2.json')\n",
    "schema = Schema2Label('./trainsample/duee_event_schema.json')\n",
    "train_e.shape, valid_e.shape, test_e.shape"
   ]
  },
  {
   "cell_type": "markdown",
   "metadata": {},
   "source": [
    "## pipeline: EventType + Arguments"
   ]
  },
  {
   "cell_type": "markdown",
   "metadata": {},
   "source": [
    "### 方案1：Trigger抽取序列标注问题"
   ]
  },
  {
   "cell_type": "code",
   "execution_count": 9,
   "metadata": {},
   "outputs": [],
   "source": [
    "useless_chars = get_useless_chars(train_e['text'].values.tolist() +\\\n",
    "                                  valid_e['text'].values.tolist() +\\\n",
    "                                  test_e['text'].values.tolist())"
   ]
  },
  {
   "cell_type": "code",
   "execution_count": 23,
   "metadata": {},
   "outputs": [],
   "source": [
    "train_e = event_preprocess(train_e, useless_chars)\n",
    "valid_e = event_preprocess(valid_e, useless_chars)\n",
    "test_e = event_preprocess(test_e, useless_chars)\n",
    "valid_e.to_csv('./trainsample/valid_event.csv')\n",
    "train_e.to_csv('./trainsample/train_event.csv')\n",
    "test_e.to_csv('./trainsample/test_event.csv')"
   ]
  },
  {
   "cell_type": "code",
   "execution_count": 11,
   "metadata": {
    "pycharm": {
     "name": "#%%\n"
    }
   },
   "outputs": [],
   "source": [
    "from src.dataset.converter import single_text\n",
    "single_text(train_e['id'].values, train_e['clean_text'].values, train_e['event_bio_label'].values,\n",
    "            './trainsample','train_event_bio')\n",
    "single_text(valid_e['id'].values, valid_e['clean_text'].values, valid_e['event_bio_label'].values, \n",
    "            './trainsample','valid_event_bio')\n",
    "single_text(test_e['id'].values, test_e['clean_text'].values, None ,'./trainsample','test_event_bio')"
   ]
  },
  {
   "cell_type": "markdown",
   "metadata": {
    "pycharm": {
     "name": "#%% md\n"
    }
   },
   "source": [
    "### 事件抽取方案2: 多标签分类问题"
   ]
  },
  {
   "cell_type": "code",
   "execution_count": 21,
   "metadata": {
    "pycharm": {
     "name": "#%%\n"
    }
   },
   "outputs": [],
   "source": [
    "single_text(train_e['id'].values, train_e['clean_text'].values, train_e['event_label'].values,\n",
    "            './trainsample','train_event')\n",
    "single_text(valid_e['id'].values, valid_e['clean_text'].values, valid_e['event_label'].values, \n",
    "            './trainsample','valid_event')\n",
    "single_text(test_e['id'].values, test_e['clean_text'].values, None, './trainsample','test_event')"
   ]
  },
  {
   "cell_type": "markdown",
   "metadata": {
    "pycharm": {
     "name": "#%% md\n"
    }
   },
   "source": [
    "### 事件抽取方案3：多标签分类 + 事件类别作为文本输入"
   ]
  },
  {
   "cell_type": "code",
   "execution_count": 44,
   "metadata": {
    "scrolled": true
   },
   "outputs": [
    {
     "data": {
      "text/plain": [
       "'1,10,17,24,31,38,45,52,59,66,73,80,87,94,101,106,111,116,121,126,133,140,147,154,161,168,174,179,184,189,194,199,204,209,214,219,224,229,236,243,250,257,264,271,278,285,292,299,306,313,320,328,335,342,349,357,364,371,378,385,392,399,406,413,420,427'"
      ]
     },
     "execution_count": 44,
     "metadata": {},
     "output_type": "execute_result"
    }
   ],
   "source": [
    "enhancement = ''\n",
    "pos = 1 \n",
    "pos_list = [pos]\n",
    "\n",
    "for i,j in enumerate(schema.event_label):\n",
    "    event = j.replace('/','').replace('-','')\n",
    "    enhancement+='[E{}]'.format(i) + event \n",
    "    pos+=len(event)+1\n",
    "    pos_list.append(pos)\n",
    "    \n",
    "','.join([str(i) for i in pos_list])"
   ]
  },
  {
   "cell_type": "code",
   "execution_count": 35,
   "metadata": {},
   "outputs": [],
   "source": [
    "double_text(train_e['id'].values, [enhancement] * train_e.shape[0], \n",
    "            train_e['clean_text'].values, train_e['event_label'].values,\n",
    "            './trainsample','train_event_slot')\n",
    "double_text(valid_e['id'].values, [enhancement] * valid_e.shape[0],\n",
    "            valid_e['clean_text'].values, valid_e['event_label'].values, \n",
    "            './trainsample','valid_event_slot')\n",
    "double_text(test_e['id'].values, [enhancement] * test_e.shape[0], \n",
    "            test_e['clean_text'].values, None, './trainsample','test_event_slot')"
   ]
  },
  {
   "cell_type": "markdown",
   "metadata": {
    "pycharm": {
     "name": "#%% md\n"
    }
   },
   "source": [
    "### Argument抽取"
   ]
  },
  {
   "cell_type": "code",
   "execution_count": 18,
   "metadata": {},
   "outputs": [],
   "source": [
    "from process import process_stage1_test"
   ]
  },
  {
   "cell_type": "code",
   "execution_count": 22,
   "metadata": {
    "pycharm": {
     "name": "#%%\n"
    }
   },
   "outputs": [],
   "source": [
    "train_a = argument_preprocess(train_a, useless_chars)\n",
    "valid_a = argument_preprocess(valid_a, useless_chars)\n",
    "test_a = argument_preprocess(test_a, useless_chars)"
   ]
  },
  {
   "cell_type": "code",
   "execution_count": 23,
   "metadata": {},
   "outputs": [],
   "source": [
    "train_a.to_csv('./trainsample/train_argument.csv')\n",
    "valid_a.to_csv('./trainsample/valid_argument.csv')\n",
    "test_a.to_csv('./trainsample/test_argument.csv')"
   ]
  },
  {
   "cell_type": "markdown",
   "metadata": {},
   "source": [
    "## MTL: EventType + Arugments"
   ]
  },
  {
   "cell_type": "markdown",
   "metadata": {},
   "source": [
    "## Flatten: EventType * Arguments\n"
   ]
  }
 ],
 "metadata": {
  "kernelspec": {
   "display_name": "Python 3 (ipykernel)",
   "language": "python",
   "name": "python3"
  },
  "language_info": {
   "codemirror_mode": {
    "name": "ipython",
    "version": 3
   },
   "file_extension": ".py",
   "mimetype": "text/x-python",
   "name": "python",
   "nbconvert_exporter": "python",
   "pygments_lexer": "ipython3",
   "version": "3.9.13"
  },
  "toc": {
   "base_numbering": 1,
   "nav_menu": {},
   "number_sections": true,
   "sideBar": true,
   "skip_h1_title": false,
   "title_cell": "Table of Contents",
   "title_sidebar": "Contents",
   "toc_cell": false,
   "toc_position": {},
   "toc_section_display": true,
   "toc_window_display": false
  }
 },
 "nbformat": 4,
 "nbformat_minor": 1
}
