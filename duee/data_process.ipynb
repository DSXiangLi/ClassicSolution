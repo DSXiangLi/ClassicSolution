{
 "cells": [
  {
   "cell_type": "code",
   "execution_count": 2,
   "metadata": {},
   "outputs": [],
   "source": [
    "from process import event_preprocess, argument_preprocess,load_event, load_argument, Schema2Label\n",
    "from src.seqlabel_utils import pos2bio\n",
    "from src.preprocess.str_utils import get_useless_chars\n",
    "from process import text_preprocess, gen_pos\n",
    "from src.dataset.converter import single_text, double_text"
   ]
  },
  {
   "cell_type": "code",
   "execution_count": 8,
   "metadata": {},
   "outputs": [
    {
     "data": {
      "text/plain": [
       "((11908, 3), (1492, 3), (34904, 2))"
      ]
     },
     "execution_count": 8,
     "metadata": {},
     "output_type": "execute_result"
    }
   ],
   "source": [
    "train_e = load_event('./trainsample/duee_train.json')\n",
    "valid_e = load_event('./trainsample/duee_dev.json')\n",
    "test_e = load_event('./trainsample/duee_test2.json')\n",
    "schema = Schema2Label('./trainsample/duee_event_schema.json')\n",
    "train_e.shape, valid_e.shape, test_e.shape"
   ]
  },
  {
   "cell_type": "markdown",
   "metadata": {},
   "source": [
    "## pipeline: EventType + Arguments"
   ]
  },
  {
   "cell_type": "markdown",
   "metadata": {},
   "source": [
    "### 方案1：Trigger抽取序列标注问题"
   ]
  },
  {
   "cell_type": "code",
   "execution_count": 9,
   "metadata": {},
   "outputs": [],
   "source": [
    "useless_chars = get_useless_chars(train_e['text'].values.tolist() +\\\n",
    "                                  valid_e['text'].values.tolist() +\\\n",
    "                                  test_e['text'].values.tolist())"
   ]
  },
  {
   "cell_type": "code",
   "execution_count": 23,
   "metadata": {},
   "outputs": [],
   "source": [
    "train_e = event_preprocess(train_e, useless_chars)\n",
    "valid_e = event_preprocess(valid_e, useless_chars)\n",
    "test_e = event_preprocess(test_e, useless_chars)\n",
    "valid_e.to_csv('./trainsample/valid_event.csv')\n",
    "train_e.to_csv('./trainsample/train_event.csv')\n",
    "test_e.to_csv('./trainsample/test_event.csv')"
   ]
  },
  {
   "cell_type": "code",
   "execution_count": 11,
   "metadata": {
    "pycharm": {
     "name": "#%%\n"
    }
   },
   "outputs": [],
   "source": [
    "from src.dataset.converter import single_text\n",
    "single_text(train_e['id'].values, train_e['clean_text'].values, train_e['event_bio_label'].values,\n",
    "            './trainsample','train_event_bio')\n",
    "single_text(valid_e['id'].values, valid_e['clean_text'].values, valid_e['event_bio_label'].values, \n",
    "            './trainsample','valid_event_bio')\n",
    "single_text(test_e['id'].values, test_e['clean_text'].values, None ,'./trainsample','test_event_bio')"
   ]
  },
  {
   "cell_type": "markdown",
   "metadata": {
    "pycharm": {
     "name": "#%% md\n"
    }
   },
   "source": [
    "### 事件抽取方案2: 多标签分类问题"
   ]
  },
  {
   "cell_type": "code",
   "execution_count": 21,
   "metadata": {
    "pycharm": {
     "name": "#%%\n"
    }
   },
   "outputs": [],
   "source": [
    "single_text(train_e['id'].values, train_e['clean_text'].values, train_e['event_label'].values,\n",
    "            './trainsample','train_event')\n",
    "single_text(valid_e['id'].values, valid_e['clean_text'].values, valid_e['event_label'].values, \n",
    "            './trainsample','valid_event')\n",
    "single_text(test_e['id'].values, test_e['clean_text'].values, None, './trainsample','test_event')"
   ]
  },
  {
   "cell_type": "markdown",
   "metadata": {
    "pycharm": {
     "name": "#%% md\n"
    }
   },
   "source": [
    "### 事件抽取方案3：多标签分类 + 事件类别作为文本输入"
   ]
  },
  {
   "cell_type": "code",
   "execution_count": 41,
   "metadata": {},
   "outputs": [],
   "source": [
    "enhancement = ''\n",
    "pos = 1 \n",
    "pos_list = [pos]\n",
    "\n",
    "for i,j in enumerate(schema.event_label):\n",
    "    event = j.replace('/','').replace('-','')\n",
    "    enhancement+='[E{}]'.format(i) + event \n",
    "    pos+=len(event)+1\n",
    "    pos_list.append(pos)\n"
   ]
  },
  {
   "cell_type": "code",
   "execution_count": 44,
   "metadata": {
    "scrolled": true
   },
   "outputs": [
    {
     "data": {
      "text/plain": [
       "'1,10,17,24,31,38,45,52,59,66,73,80,87,94,101,106,111,116,121,126,133,140,147,154,161,168,174,179,184,189,194,199,204,209,214,219,224,229,236,243,250,257,264,271,278,285,292,299,306,313,320,328,335,342,349,357,364,371,378,385,392,399,406,413,420,427'"
      ]
     },
     "execution_count": 44,
     "metadata": {},
     "output_type": "execute_result"
    }
   ],
   "source": [
    "','.join([str(i) for i in pos_list])"
   ]
  },
  {
   "cell_type": "code",
   "execution_count": 35,
   "metadata": {},
   "outputs": [],
   "source": [
    "double_text(train_e['id'].values, [enhancement] * train_e.shape[0], \n",
    "            train_e['clean_text'].values, train_e['event_label'].values,\n",
    "            './trainsample','train_event_slot')\n",
    "double_text(valid_e['id'].values, [enhancement] * valid_e.shape[0],\n",
    "            valid_e['clean_text'].values, valid_e['event_label'].values, \n",
    "            './trainsample','valid_event_slot')\n",
    "double_text(test_e['id'].values, [enhancement] * test_e.shape[0], \n",
    "            test_e['clean_text'].values, None, './trainsample','test_event_slot')"
   ]
  },
  {
   "cell_type": "code",
   "execution_count": 47,
   "metadata": {},
   "outputs": [
    {
     "data": {
      "text/html": [
       "<div>\n",
       "<style scoped>\n",
       "    .dataframe tbody tr th:only-of-type {\n",
       "        vertical-align: middle;\n",
       "    }\n",
       "\n",
       "    .dataframe tbody tr th {\n",
       "        vertical-align: top;\n",
       "    }\n",
       "\n",
       "    .dataframe thead th {\n",
       "        text-align: right;\n",
       "    }\n",
       "</style>\n",
       "<table border=\"1\" class=\"dataframe\">\n",
       "  <thead>\n",
       "    <tr style=\"text-align: right;\">\n",
       "      <th></th>\n",
       "      <th>id</th>\n",
       "      <th>text</th>\n",
       "      <th>trigger_list</th>\n",
       "      <th>clean_text</th>\n",
       "      <th>event_pos</th>\n",
       "      <th>event_bio_label</th>\n",
       "      <th>event_label</th>\n",
       "    </tr>\n",
       "  </thead>\n",
       "  <tbody>\n",
       "    <tr>\n",
       "      <th>0</th>\n",
       "      <td>cba11b5059495e635b4f95e7484b2684</td>\n",
       "      <td>消失的“外企光环”，5月份在华裁员900余人，香饽饽变“臭”了</td>\n",
       "      <td>[[组织关系-裁员, 裁员]]</td>\n",
       "      <td>消失的“外企光环”,5月份在华裁员900余人,香饽饽变“臭”了</td>\n",
       "      <td>[[组织关系-裁员, 15, 16]]</td>\n",
       "      <td>[O, O, O, O, O, O, O, O, O, O, O, O, O, O, O, ...</td>\n",
       "      <td>[组织关系-裁员]</td>\n",
       "    </tr>\n",
       "    <tr>\n",
       "      <th>1</th>\n",
       "      <td>b90900665eee74f658eed125a321ee06</td>\n",
       "      <td>前两天，被称为 “ 仅次于苹果的软件服务商 ” 的 Oracle（ 甲骨文 ）公司突然宣布在...</td>\n",
       "      <td>[[组织关系-裁员, 裁员]]</td>\n",
       "      <td>前两天,被称为“仅次于苹果的软件服务商”的Oracle(甲骨文)公司突然宣布在中国裁员。。</td>\n",
       "      <td>[[组织关系-裁员, 41, 42]]</td>\n",
       "      <td>[O, O, O, O, O, O, O, O, O, O, O, O, O, O, O, ...</td>\n",
       "      <td>[组织关系-裁员]</td>\n",
       "    </tr>\n",
       "    <tr>\n",
       "      <th>2</th>\n",
       "      <td>c970d67bb8d3e57db77c4dbbdfbe9769</td>\n",
       "      <td>不仅仅是中国IT企业在裁员，为何500强的甲骨文也发生了全球裁员</td>\n",
       "      <td>[[组织关系-裁员, 裁员], [组织关系-裁员, 裁员]]</td>\n",
       "      <td>不仅仅是中国IT企业在裁员,为何500强的甲骨文也发生了全球裁员</td>\n",
       "      <td>[[组织关系-裁员, 11, 12], [组织关系-裁员, 30, 31], [组织关系-裁...</td>\n",
       "      <td>[O, O, O, O, O, O, O, O, O, O, O, B-组织关系-裁员, I...</td>\n",
       "      <td>[组织关系-裁员, 组织关系-裁员]</td>\n",
       "    </tr>\n",
       "    <tr>\n",
       "      <th>3</th>\n",
       "      <td>8a440ade8a8bac469e0357cc519ec9c0</td>\n",
       "      <td>据猛龙随队记者Josh Lewenberg报道，消息人士透露，猛龙已将前锋萨加巴-科纳特裁掉...</td>\n",
       "      <td>[[组织关系-裁员, 裁掉], [组织关系-加盟, 签下], [组织关系-裁员, 裁掉]]</td>\n",
       "      <td>据猛龙随队记者JoshLewenberg报道,消息人士透露,猛龙已将前锋萨加巴-科纳特裁掉。...</td>\n",
       "      <td>[[组织关系-裁员, 43, 44], [组织关系-裁员, 71, 72], [组织关系-加...</td>\n",
       "      <td>[O, O, O, O, O, O, O, O, O, O, O, O, O, O, O, ...</td>\n",
       "      <td>[组织关系-裁员, 组织关系-加盟, 组织关系-裁员]</td>\n",
       "    </tr>\n",
       "    <tr>\n",
       "      <th>4</th>\n",
       "      <td>80691881637ea5a0fee0ad01a689ce4a</td>\n",
       "      <td>冠军射手被裁掉，欲加入湖人队，但湖人却无意，冠军射手何去何从</td>\n",
       "      <td>[[组织关系-裁员, 裁掉]]</td>\n",
       "      <td>冠军射手被裁掉,欲加入湖人队,但湖人却无意,冠军射手何去何从</td>\n",
       "      <td>[[组织关系-裁员, 5, 6]]</td>\n",
       "      <td>[O, O, O, O, O, B-组织关系-裁员, I-组织关系-裁员, O, O, O,...</td>\n",
       "      <td>[组织关系-裁员]</td>\n",
       "    </tr>\n",
       "  </tbody>\n",
       "</table>\n",
       "</div>"
      ],
      "text/plain": [
       "                                 id  \\\n",
       "0  cba11b5059495e635b4f95e7484b2684   \n",
       "1  b90900665eee74f658eed125a321ee06   \n",
       "2  c970d67bb8d3e57db77c4dbbdfbe9769   \n",
       "3  8a440ade8a8bac469e0357cc519ec9c0   \n",
       "4  80691881637ea5a0fee0ad01a689ce4a   \n",
       "\n",
       "                                                text  \\\n",
       "0                    消失的“外企光环”，5月份在华裁员900余人，香饽饽变“臭”了   \n",
       "1  前两天，被称为 “ 仅次于苹果的软件服务商 ” 的 Oracle（ 甲骨文 ）公司突然宣布在...   \n",
       "2                   不仅仅是中国IT企业在裁员，为何500强的甲骨文也发生了全球裁员   \n",
       "3  据猛龙随队记者Josh Lewenberg报道，消息人士透露，猛龙已将前锋萨加巴-科纳特裁掉...   \n",
       "4                     冠军射手被裁掉，欲加入湖人队，但湖人却无意，冠军射手何去何从   \n",
       "\n",
       "                                    trigger_list  \\\n",
       "0                                [[组织关系-裁员, 裁员]]   \n",
       "1                                [[组织关系-裁员, 裁员]]   \n",
       "2                 [[组织关系-裁员, 裁员], [组织关系-裁员, 裁员]]   \n",
       "3  [[组织关系-裁员, 裁掉], [组织关系-加盟, 签下], [组织关系-裁员, 裁掉]]   \n",
       "4                                [[组织关系-裁员, 裁掉]]   \n",
       "\n",
       "                                          clean_text  \\\n",
       "0                    消失的“外企光环”,5月份在华裁员900余人,香饽饽变“臭”了   \n",
       "1      前两天,被称为“仅次于苹果的软件服务商”的Oracle(甲骨文)公司突然宣布在中国裁员。。   \n",
       "2                   不仅仅是中国IT企业在裁员,为何500强的甲骨文也发生了全球裁员   \n",
       "3  据猛龙随队记者JoshLewenberg报道,消息人士透露,猛龙已将前锋萨加巴-科纳特裁掉。...   \n",
       "4                     冠军射手被裁掉,欲加入湖人队,但湖人却无意,冠军射手何去何从   \n",
       "\n",
       "                                           event_pos  \\\n",
       "0                                [[组织关系-裁员, 15, 16]]   \n",
       "1                                [[组织关系-裁员, 41, 42]]   \n",
       "2  [[组织关系-裁员, 11, 12], [组织关系-裁员, 30, 31], [组织关系-裁...   \n",
       "3  [[组织关系-裁员, 43, 44], [组织关系-裁员, 71, 72], [组织关系-加...   \n",
       "4                                  [[组织关系-裁员, 5, 6]]   \n",
       "\n",
       "                                     event_bio_label  \\\n",
       "0  [O, O, O, O, O, O, O, O, O, O, O, O, O, O, O, ...   \n",
       "1  [O, O, O, O, O, O, O, O, O, O, O, O, O, O, O, ...   \n",
       "2  [O, O, O, O, O, O, O, O, O, O, O, B-组织关系-裁员, I...   \n",
       "3  [O, O, O, O, O, O, O, O, O, O, O, O, O, O, O, ...   \n",
       "4  [O, O, O, O, O, B-组织关系-裁员, I-组织关系-裁员, O, O, O,...   \n",
       "\n",
       "                   event_label  \n",
       "0                    [组织关系-裁员]  \n",
       "1                    [组织关系-裁员]  \n",
       "2           [组织关系-裁员, 组织关系-裁员]  \n",
       "3  [组织关系-裁员, 组织关系-加盟, 组织关系-裁员]  \n",
       "4                    [组织关系-裁员]  "
      ]
     },
     "execution_count": 47,
     "metadata": {},
     "output_type": "execute_result"
    }
   ],
   "source": [
    "valid_e.head()"
   ]
  },
  {
   "cell_type": "markdown",
   "metadata": {
    "pycharm": {
     "name": "#%% md\n"
    }
   },
   "source": [
    "### Argument抽取"
   ]
  },
  {
   "cell_type": "code",
   "execution_count": 18,
   "metadata": {},
   "outputs": [],
   "source": [
    "from process import process_stage1_test"
   ]
  },
  {
   "cell_type": "code",
   "execution_count": 22,
   "metadata": {
    "pycharm": {
     "name": "#%%\n"
    }
   },
   "outputs": [],
   "source": [
    "train_a = argument_preprocess(train_a, useless_chars)\n",
    "valid_a = argument_preprocess(valid_a, useless_chars)\n",
    "test_a = argument_preprocess(test_a, useless_chars)"
   ]
  },
  {
   "cell_type": "code",
   "execution_count": 23,
   "metadata": {},
   "outputs": [],
   "source": [
    "train_a.to_csv('./trainsample/train_argument.csv')\n",
    "valid_a.to_csv('./trainsample/valid_argument.csv')\n",
    "test_a.to_csv('./trainsample/test_argument.csv')"
   ]
  },
  {
   "cell_type": "code",
   "execution_count": 5,
   "metadata": {},
   "outputs": [],
   "source": [
    "import ast\n",
    "import pandas as pd \n",
    "valid = pd.read_csv('./trainsample/valid_event_cls_pred.csv')\n",
    "valid['pred_label'] = valid['pred_label'].map(lambda x: ast.literal_eval(x))"
   ]
  },
  {
   "cell_type": "code",
   "execution_count": null,
   "metadata": {},
   "outputs": [],
   "source": [
    "def multilabel_cls_report(y_true, y_pred):\n",
    "    tp = 0\n",
    "    fp = 0 \n",
    "    fn = 0 \n",
    "    for i,j in zip(y_true, y_pred):\n",
    "        i,j = set(i),set(j)\n",
    "        tp += len(i.intersection(j))\n",
    "        fp += len(j.difference(i))\n",
    "        fn += len(i.difference(j))\n",
    "    \n",
    "    precision = tp/(tp+fp)\n",
    "    recall = tp/(tp+fn)\n",
    "    accuracy =\n",
    "        \n",
    "        \n",
    "    \n",
    "    "
   ]
  },
  {
   "cell_type": "code",
   "execution_count": 6,
   "metadata": {},
   "outputs": [
    {
     "data": {
      "text/html": [
       "<div>\n",
       "<style scoped>\n",
       "    .dataframe tbody tr th:only-of-type {\n",
       "        vertical-align: middle;\n",
       "    }\n",
       "\n",
       "    .dataframe tbody tr th {\n",
       "        vertical-align: top;\n",
       "    }\n",
       "\n",
       "    .dataframe thead th {\n",
       "        text-align: right;\n",
       "    }\n",
       "</style>\n",
       "<table border=\"1\" class=\"dataframe\">\n",
       "  <thead>\n",
       "    <tr style=\"text-align: right;\">\n",
       "      <th></th>\n",
       "      <th>Unnamed: 0</th>\n",
       "      <th>Unnamed: 0.1</th>\n",
       "      <th>id</th>\n",
       "      <th>text</th>\n",
       "      <th>trigger_list</th>\n",
       "      <th>text_clean</th>\n",
       "      <th>event_pos</th>\n",
       "      <th>event_bio_label</th>\n",
       "      <th>event_label</th>\n",
       "      <th>pred</th>\n",
       "      <th>prob</th>\n",
       "      <th>pred_label</th>\n",
       "    </tr>\n",
       "  </thead>\n",
       "  <tbody>\n",
       "    <tr>\n",
       "      <th>0</th>\n",
       "      <td>0</td>\n",
       "      <td>0</td>\n",
       "      <td>cba11b5059495e635b4f95e7484b2684</td>\n",
       "      <td>消失的“外企光环”，5月份在华裁员900余人，香饽饽变“臭”了</td>\n",
       "      <td>[['组织关系-裁员', '裁员']]</td>\n",
       "      <td>消失的“外企光环”,5月份在华裁员900余人,香饽饽变“臭”了</td>\n",
       "      <td>[['组织关系-裁员', 15, 16]]</td>\n",
       "      <td>['O', 'O', 'O', 'O', 'O', 'O', 'O', 'O', 'O', ...</td>\n",
       "      <td>['组织关系-裁员']</td>\n",
       "      <td>[0, 0, 0, 0, 0, 0, 0, 0, 0, 0, 0, 0, 0, 0, 0, ...</td>\n",
       "      <td>[0.0006579595501534641, 0.0006844821618869901,...</td>\n",
       "      <td>[组织关系-裁员]</td>\n",
       "    </tr>\n",
       "    <tr>\n",
       "      <th>1</th>\n",
       "      <td>1</td>\n",
       "      <td>1</td>\n",
       "      <td>b90900665eee74f658eed125a321ee06</td>\n",
       "      <td>前两天，被称为 “ 仅次于苹果的软件服务商 ” 的 Oracle（ 甲骨文 ）公司突然宣布在...</td>\n",
       "      <td>[['组织关系-裁员', '裁员']]</td>\n",
       "      <td>前两天,被称为“仅次于苹果的软件服务商”的Oracle(甲骨文)公司突然宣布在中国裁员。。</td>\n",
       "      <td>[['组织关系-裁员', 41, 42]]</td>\n",
       "      <td>['O', 'O', 'O', 'O', 'O', 'O', 'O', 'O', 'O', ...</td>\n",
       "      <td>['组织关系-裁员']</td>\n",
       "      <td>[0, 0, 0, 0, 0, 0, 0, 0, 0, 0, 0, 0, 0, 0, 0, ...</td>\n",
       "      <td>[0.0006317550432868302, 0.0006702584796585143,...</td>\n",
       "      <td>[组织关系-裁员]</td>\n",
       "    </tr>\n",
       "    <tr>\n",
       "      <th>2</th>\n",
       "      <td>2</td>\n",
       "      <td>2</td>\n",
       "      <td>c970d67bb8d3e57db77c4dbbdfbe9769</td>\n",
       "      <td>不仅仅是中国IT企业在裁员，为何500强的甲骨文也发生了全球裁员</td>\n",
       "      <td>[['组织关系-裁员', '裁员'], ['组织关系-裁员', '裁员']]</td>\n",
       "      <td>不仅仅是中国IT企业在裁员,为何500强的甲骨文也发生了全球裁员</td>\n",
       "      <td>[['组织关系-裁员', 11, 12], ['组织关系-裁员', 30, 31], ['组...</td>\n",
       "      <td>['O', 'O', 'O', 'O', 'O', 'O', 'O', 'O', 'O', ...</td>\n",
       "      <td>['组织关系-裁员', '组织关系-裁员']</td>\n",
       "      <td>[0, 0, 0, 0, 0, 0, 0, 0, 0, 0, 0, 0, 0, 0, 0, ...</td>\n",
       "      <td>[0.0005977904656901956, 0.0006896447739563882,...</td>\n",
       "      <td>[组织关系-裁员]</td>\n",
       "    </tr>\n",
       "    <tr>\n",
       "      <th>3</th>\n",
       "      <td>3</td>\n",
       "      <td>3</td>\n",
       "      <td>8a440ade8a8bac469e0357cc519ec9c0</td>\n",
       "      <td>据猛龙随队记者Josh Lewenberg报道，消息人士透露，猛龙已将前锋萨加巴-科纳特裁掉...</td>\n",
       "      <td>[['组织关系-裁员', '裁掉'], ['组织关系-加盟', '签下'], ['组织关系-...</td>\n",
       "      <td>据猛龙随队记者JoshLewenberg报道,消息人士透露,猛龙已将前锋萨加巴-科纳特裁掉。...</td>\n",
       "      <td>[['组织关系-裁员', 43, 44], ['组织关系-裁员', 71, 72], ['组...</td>\n",
       "      <td>['O', 'O', 'O', 'O', 'O', 'O', 'O', 'O', 'O', ...</td>\n",
       "      <td>['组织关系-裁员', '组织关系-加盟', '组织关系-裁员']</td>\n",
       "      <td>[0, 0, 0, 0, 0, 0, 0, 0, 0, 0, 0, 0, 0, 0, 0, ...</td>\n",
       "      <td>[0.004644543398171663, 0.0004959380603395402, ...</td>\n",
       "      <td>[组织关系-加盟, 组织关系-解雇]</td>\n",
       "    </tr>\n",
       "    <tr>\n",
       "      <th>4</th>\n",
       "      <td>4</td>\n",
       "      <td>4</td>\n",
       "      <td>80691881637ea5a0fee0ad01a689ce4a</td>\n",
       "      <td>冠军射手被裁掉，欲加入湖人队，但湖人却无意，冠军射手何去何从</td>\n",
       "      <td>[['组织关系-裁员', '裁掉']]</td>\n",
       "      <td>冠军射手被裁掉,欲加入湖人队,但湖人却无意,冠军射手何去何从</td>\n",
       "      <td>[['组织关系-裁员', 5, 6]]</td>\n",
       "      <td>['O', 'O', 'O', 'O', 'O', 'B-组织关系-裁员', 'I-组织关系...</td>\n",
       "      <td>['组织关系-裁员']</td>\n",
       "      <td>[0, 0, 0, 0, 0, 0, 0, 0, 0, 0, 0, 0, 0, 0, 0, ...</td>\n",
       "      <td>[0.0029856592882424593, 0.00027657870668917894...</td>\n",
       "      <td>[组织关系-解雇]</td>\n",
       "    </tr>\n",
       "  </tbody>\n",
       "</table>\n",
       "</div>"
      ],
      "text/plain": [
       "   Unnamed: 0  Unnamed: 0.1                                id  \\\n",
       "0           0             0  cba11b5059495e635b4f95e7484b2684   \n",
       "1           1             1  b90900665eee74f658eed125a321ee06   \n",
       "2           2             2  c970d67bb8d3e57db77c4dbbdfbe9769   \n",
       "3           3             3  8a440ade8a8bac469e0357cc519ec9c0   \n",
       "4           4             4  80691881637ea5a0fee0ad01a689ce4a   \n",
       "\n",
       "                                                text  \\\n",
       "0                    消失的“外企光环”，5月份在华裁员900余人，香饽饽变“臭”了   \n",
       "1  前两天，被称为 “ 仅次于苹果的软件服务商 ” 的 Oracle（ 甲骨文 ）公司突然宣布在...   \n",
       "2                   不仅仅是中国IT企业在裁员，为何500强的甲骨文也发生了全球裁员   \n",
       "3  据猛龙随队记者Josh Lewenberg报道，消息人士透露，猛龙已将前锋萨加巴-科纳特裁掉...   \n",
       "4                     冠军射手被裁掉，欲加入湖人队，但湖人却无意，冠军射手何去何从   \n",
       "\n",
       "                                        trigger_list  \\\n",
       "0                                [['组织关系-裁员', '裁员']]   \n",
       "1                                [['组织关系-裁员', '裁员']]   \n",
       "2             [['组织关系-裁员', '裁员'], ['组织关系-裁员', '裁员']]   \n",
       "3  [['组织关系-裁员', '裁掉'], ['组织关系-加盟', '签下'], ['组织关系-...   \n",
       "4                                [['组织关系-裁员', '裁掉']]   \n",
       "\n",
       "                                          text_clean  \\\n",
       "0                    消失的“外企光环”,5月份在华裁员900余人,香饽饽变“臭”了   \n",
       "1      前两天,被称为“仅次于苹果的软件服务商”的Oracle(甲骨文)公司突然宣布在中国裁员。。   \n",
       "2                   不仅仅是中国IT企业在裁员,为何500强的甲骨文也发生了全球裁员   \n",
       "3  据猛龙随队记者JoshLewenberg报道,消息人士透露,猛龙已将前锋萨加巴-科纳特裁掉。...   \n",
       "4                     冠军射手被裁掉,欲加入湖人队,但湖人却无意,冠军射手何去何从   \n",
       "\n",
       "                                           event_pos  \\\n",
       "0                              [['组织关系-裁员', 15, 16]]   \n",
       "1                              [['组织关系-裁员', 41, 42]]   \n",
       "2  [['组织关系-裁员', 11, 12], ['组织关系-裁员', 30, 31], ['组...   \n",
       "3  [['组织关系-裁员', 43, 44], ['组织关系-裁员', 71, 72], ['组...   \n",
       "4                                [['组织关系-裁员', 5, 6]]   \n",
       "\n",
       "                                     event_bio_label  \\\n",
       "0  ['O', 'O', 'O', 'O', 'O', 'O', 'O', 'O', 'O', ...   \n",
       "1  ['O', 'O', 'O', 'O', 'O', 'O', 'O', 'O', 'O', ...   \n",
       "2  ['O', 'O', 'O', 'O', 'O', 'O', 'O', 'O', 'O', ...   \n",
       "3  ['O', 'O', 'O', 'O', 'O', 'O', 'O', 'O', 'O', ...   \n",
       "4  ['O', 'O', 'O', 'O', 'O', 'B-组织关系-裁员', 'I-组织关系...   \n",
       "\n",
       "                         event_label  \\\n",
       "0                        ['组织关系-裁员']   \n",
       "1                        ['组织关系-裁员']   \n",
       "2             ['组织关系-裁员', '组织关系-裁员']   \n",
       "3  ['组织关系-裁员', '组织关系-加盟', '组织关系-裁员']   \n",
       "4                        ['组织关系-裁员']   \n",
       "\n",
       "                                                pred  \\\n",
       "0  [0, 0, 0, 0, 0, 0, 0, 0, 0, 0, 0, 0, 0, 0, 0, ...   \n",
       "1  [0, 0, 0, 0, 0, 0, 0, 0, 0, 0, 0, 0, 0, 0, 0, ...   \n",
       "2  [0, 0, 0, 0, 0, 0, 0, 0, 0, 0, 0, 0, 0, 0, 0, ...   \n",
       "3  [0, 0, 0, 0, 0, 0, 0, 0, 0, 0, 0, 0, 0, 0, 0, ...   \n",
       "4  [0, 0, 0, 0, 0, 0, 0, 0, 0, 0, 0, 0, 0, 0, 0, ...   \n",
       "\n",
       "                                                prob          pred_label  \n",
       "0  [0.0006579595501534641, 0.0006844821618869901,...           [组织关系-裁员]  \n",
       "1  [0.0006317550432868302, 0.0006702584796585143,...           [组织关系-裁员]  \n",
       "2  [0.0005977904656901956, 0.0006896447739563882,...           [组织关系-裁员]  \n",
       "3  [0.004644543398171663, 0.0004959380603395402, ...  [组织关系-加盟, 组织关系-解雇]  \n",
       "4  [0.0029856592882424593, 0.00027657870668917894...           [组织关系-解雇]  "
      ]
     },
     "execution_count": 6,
     "metadata": {},
     "output_type": "execute_result"
    }
   ],
   "source": [
    "valid.head()"
   ]
  },
  {
   "cell_type": "code",
   "execution_count": 3,
   "metadata": {},
   "outputs": [
    {
     "data": {
      "text/html": [
       "<div>\n",
       "<style scoped>\n",
       "    .dataframe tbody tr th:only-of-type {\n",
       "        vertical-align: middle;\n",
       "    }\n",
       "\n",
       "    .dataframe tbody tr th {\n",
       "        vertical-align: top;\n",
       "    }\n",
       "\n",
       "    .dataframe thead th {\n",
       "        text-align: right;\n",
       "    }\n",
       "</style>\n",
       "<table border=\"1\" class=\"dataframe\">\n",
       "  <thead>\n",
       "    <tr style=\"text-align: right;\">\n",
       "      <th></th>\n",
       "      <th>Unnamed: 0</th>\n",
       "      <th>Unnamed: 0.1</th>\n",
       "      <th>id</th>\n",
       "      <th>text</th>\n",
       "      <th>trigger_list</th>\n",
       "      <th>text_clean</th>\n",
       "      <th>event_pos</th>\n",
       "      <th>event_bio_label</th>\n",
       "      <th>event_label</th>\n",
       "      <th>pred</th>\n",
       "      <th>prob</th>\n",
       "      <th>pred_label</th>\n",
       "      <th>event_type</th>\n",
       "    </tr>\n",
       "  </thead>\n",
       "  <tbody>\n",
       "    <tr>\n",
       "      <th>0</th>\n",
       "      <td>0</td>\n",
       "      <td>0</td>\n",
       "      <td>cba11b5059495e635b4f95e7484b2684</td>\n",
       "      <td>消失的“外企光环”，5月份在华裁员900余人，香饽饽变“臭”了</td>\n",
       "      <td>[['组织关系-裁员', '裁员']]</td>\n",
       "      <td>消失的“外企光环”,5月份在华裁员900余人,香饽饽变“臭”了</td>\n",
       "      <td>[['组织关系-裁员', 15, 16]]</td>\n",
       "      <td>['O', 'O', 'O', 'O', 'O', 'O', 'O', 'O', 'O', ...</td>\n",
       "      <td>['组织关系-裁员']</td>\n",
       "      <td>[0, 0, 0, 0, 0, 0, 0, 0, 0, 0, 0, 0, 0, 0, 0, ...</td>\n",
       "      <td>[0.0006579595501534641, 0.0006844821618869901,...</td>\n",
       "      <td>组织关系-裁员</td>\n",
       "      <td>组织关系-裁员</td>\n",
       "    </tr>\n",
       "    <tr>\n",
       "      <th>1</th>\n",
       "      <td>1</td>\n",
       "      <td>1</td>\n",
       "      <td>b90900665eee74f658eed125a321ee06</td>\n",
       "      <td>前两天，被称为 “ 仅次于苹果的软件服务商 ” 的 Oracle（ 甲骨文 ）公司突然宣布在...</td>\n",
       "      <td>[['组织关系-裁员', '裁员']]</td>\n",
       "      <td>前两天,被称为“仅次于苹果的软件服务商”的Oracle(甲骨文)公司突然宣布在中国裁员。。</td>\n",
       "      <td>[['组织关系-裁员', 41, 42]]</td>\n",
       "      <td>['O', 'O', 'O', 'O', 'O', 'O', 'O', 'O', 'O', ...</td>\n",
       "      <td>['组织关系-裁员']</td>\n",
       "      <td>[0, 0, 0, 0, 0, 0, 0, 0, 0, 0, 0, 0, 0, 0, 0, ...</td>\n",
       "      <td>[0.0006317550432868302, 0.0006702584796585143,...</td>\n",
       "      <td>组织关系-裁员</td>\n",
       "      <td>组织关系-裁员</td>\n",
       "    </tr>\n",
       "    <tr>\n",
       "      <th>2</th>\n",
       "      <td>2</td>\n",
       "      <td>2</td>\n",
       "      <td>c970d67bb8d3e57db77c4dbbdfbe9769</td>\n",
       "      <td>不仅仅是中国IT企业在裁员，为何500强的甲骨文也发生了全球裁员</td>\n",
       "      <td>[['组织关系-裁员', '裁员'], ['组织关系-裁员', '裁员']]</td>\n",
       "      <td>不仅仅是中国IT企业在裁员,为何500强的甲骨文也发生了全球裁员</td>\n",
       "      <td>[['组织关系-裁员', 11, 12], ['组织关系-裁员', 30, 31], ['组...</td>\n",
       "      <td>['O', 'O', 'O', 'O', 'O', 'O', 'O', 'O', 'O', ...</td>\n",
       "      <td>['组织关系-裁员', '组织关系-裁员']</td>\n",
       "      <td>[0, 0, 0, 0, 0, 0, 0, 0, 0, 0, 0, 0, 0, 0, 0, ...</td>\n",
       "      <td>[0.0005977904656901956, 0.0006896447739563882,...</td>\n",
       "      <td>组织关系-裁员</td>\n",
       "      <td>组织关系-裁员</td>\n",
       "    </tr>\n",
       "    <tr>\n",
       "      <th>3</th>\n",
       "      <td>3</td>\n",
       "      <td>3</td>\n",
       "      <td>8a440ade8a8bac469e0357cc519ec9c0</td>\n",
       "      <td>据猛龙随队记者Josh Lewenberg报道，消息人士透露，猛龙已将前锋萨加巴-科纳特裁掉...</td>\n",
       "      <td>[['组织关系-裁员', '裁掉'], ['组织关系-加盟', '签下'], ['组织关系-...</td>\n",
       "      <td>据猛龙随队记者JoshLewenberg报道,消息人士透露,猛龙已将前锋萨加巴-科纳特裁掉。...</td>\n",
       "      <td>[['组织关系-裁员', 43, 44], ['组织关系-裁员', 71, 72], ['组...</td>\n",
       "      <td>['O', 'O', 'O', 'O', 'O', 'O', 'O', 'O', 'O', ...</td>\n",
       "      <td>['组织关系-裁员', '组织关系-加盟', '组织关系-裁员']</td>\n",
       "      <td>[0, 0, 0, 0, 0, 0, 0, 0, 0, 0, 0, 0, 0, 0, 0, ...</td>\n",
       "      <td>[0.004644543398171663, 0.0004959380603395402, ...</td>\n",
       "      <td>组织关系-加盟</td>\n",
       "      <td>组织关系-加盟</td>\n",
       "    </tr>\n",
       "    <tr>\n",
       "      <th>4</th>\n",
       "      <td>3</td>\n",
       "      <td>3</td>\n",
       "      <td>8a440ade8a8bac469e0357cc519ec9c0</td>\n",
       "      <td>据猛龙随队记者Josh Lewenberg报道，消息人士透露，猛龙已将前锋萨加巴-科纳特裁掉...</td>\n",
       "      <td>[['组织关系-裁员', '裁掉'], ['组织关系-加盟', '签下'], ['组织关系-...</td>\n",
       "      <td>据猛龙随队记者JoshLewenberg报道,消息人士透露,猛龙已将前锋萨加巴-科纳特裁掉。...</td>\n",
       "      <td>[['组织关系-裁员', 43, 44], ['组织关系-裁员', 71, 72], ['组...</td>\n",
       "      <td>['O', 'O', 'O', 'O', 'O', 'O', 'O', 'O', 'O', ...</td>\n",
       "      <td>['组织关系-裁员', '组织关系-加盟', '组织关系-裁员']</td>\n",
       "      <td>[0, 0, 0, 0, 0, 0, 0, 0, 0, 0, 0, 0, 0, 0, 0, ...</td>\n",
       "      <td>[0.004644543398171663, 0.0004959380603395402, ...</td>\n",
       "      <td>组织关系-解雇</td>\n",
       "      <td>组织关系-解雇</td>\n",
       "    </tr>\n",
       "  </tbody>\n",
       "</table>\n",
       "</div>"
      ],
      "text/plain": [
       "   Unnamed: 0  Unnamed: 0.1                                id  \\\n",
       "0           0             0  cba11b5059495e635b4f95e7484b2684   \n",
       "1           1             1  b90900665eee74f658eed125a321ee06   \n",
       "2           2             2  c970d67bb8d3e57db77c4dbbdfbe9769   \n",
       "3           3             3  8a440ade8a8bac469e0357cc519ec9c0   \n",
       "4           3             3  8a440ade8a8bac469e0357cc519ec9c0   \n",
       "\n",
       "                                                text  \\\n",
       "0                    消失的“外企光环”，5月份在华裁员900余人，香饽饽变“臭”了   \n",
       "1  前两天，被称为 “ 仅次于苹果的软件服务商 ” 的 Oracle（ 甲骨文 ）公司突然宣布在...   \n",
       "2                   不仅仅是中国IT企业在裁员，为何500强的甲骨文也发生了全球裁员   \n",
       "3  据猛龙随队记者Josh Lewenberg报道，消息人士透露，猛龙已将前锋萨加巴-科纳特裁掉...   \n",
       "4  据猛龙随队记者Josh Lewenberg报道，消息人士透露，猛龙已将前锋萨加巴-科纳特裁掉...   \n",
       "\n",
       "                                        trigger_list  \\\n",
       "0                                [['组织关系-裁员', '裁员']]   \n",
       "1                                [['组织关系-裁员', '裁员']]   \n",
       "2             [['组织关系-裁员', '裁员'], ['组织关系-裁员', '裁员']]   \n",
       "3  [['组织关系-裁员', '裁掉'], ['组织关系-加盟', '签下'], ['组织关系-...   \n",
       "4  [['组织关系-裁员', '裁掉'], ['组织关系-加盟', '签下'], ['组织关系-...   \n",
       "\n",
       "                                          text_clean  \\\n",
       "0                    消失的“外企光环”,5月份在华裁员900余人,香饽饽变“臭”了   \n",
       "1      前两天,被称为“仅次于苹果的软件服务商”的Oracle(甲骨文)公司突然宣布在中国裁员。。   \n",
       "2                   不仅仅是中国IT企业在裁员,为何500强的甲骨文也发生了全球裁员   \n",
       "3  据猛龙随队记者JoshLewenberg报道,消息人士透露,猛龙已将前锋萨加巴-科纳特裁掉。...   \n",
       "4  据猛龙随队记者JoshLewenberg报道,消息人士透露,猛龙已将前锋萨加巴-科纳特裁掉。...   \n",
       "\n",
       "                                           event_pos  \\\n",
       "0                              [['组织关系-裁员', 15, 16]]   \n",
       "1                              [['组织关系-裁员', 41, 42]]   \n",
       "2  [['组织关系-裁员', 11, 12], ['组织关系-裁员', 30, 31], ['组...   \n",
       "3  [['组织关系-裁员', 43, 44], ['组织关系-裁员', 71, 72], ['组...   \n",
       "4  [['组织关系-裁员', 43, 44], ['组织关系-裁员', 71, 72], ['组...   \n",
       "\n",
       "                                     event_bio_label  \\\n",
       "0  ['O', 'O', 'O', 'O', 'O', 'O', 'O', 'O', 'O', ...   \n",
       "1  ['O', 'O', 'O', 'O', 'O', 'O', 'O', 'O', 'O', ...   \n",
       "2  ['O', 'O', 'O', 'O', 'O', 'O', 'O', 'O', 'O', ...   \n",
       "3  ['O', 'O', 'O', 'O', 'O', 'O', 'O', 'O', 'O', ...   \n",
       "4  ['O', 'O', 'O', 'O', 'O', 'O', 'O', 'O', 'O', ...   \n",
       "\n",
       "                         event_label  \\\n",
       "0                        ['组织关系-裁员']   \n",
       "1                        ['组织关系-裁员']   \n",
       "2             ['组织关系-裁员', '组织关系-裁员']   \n",
       "3  ['组织关系-裁员', '组织关系-加盟', '组织关系-裁员']   \n",
       "4  ['组织关系-裁员', '组织关系-加盟', '组织关系-裁员']   \n",
       "\n",
       "                                                pred  \\\n",
       "0  [0, 0, 0, 0, 0, 0, 0, 0, 0, 0, 0, 0, 0, 0, 0, ...   \n",
       "1  [0, 0, 0, 0, 0, 0, 0, 0, 0, 0, 0, 0, 0, 0, 0, ...   \n",
       "2  [0, 0, 0, 0, 0, 0, 0, 0, 0, 0, 0, 0, 0, 0, 0, ...   \n",
       "3  [0, 0, 0, 0, 0, 0, 0, 0, 0, 0, 0, 0, 0, 0, 0, ...   \n",
       "4  [0, 0, 0, 0, 0, 0, 0, 0, 0, 0, 0, 0, 0, 0, 0, ...   \n",
       "\n",
       "                                                prob pred_label event_type  \n",
       "0  [0.0006579595501534641, 0.0006844821618869901,...    组织关系-裁员    组织关系-裁员  \n",
       "1  [0.0006317550432868302, 0.0006702584796585143,...    组织关系-裁员    组织关系-裁员  \n",
       "2  [0.0005977904656901956, 0.0006896447739563882,...    组织关系-裁员    组织关系-裁员  \n",
       "3  [0.004644543398171663, 0.0004959380603395402, ...    组织关系-加盟    组织关系-加盟  \n",
       "4  [0.004644543398171663, 0.0004959380603395402, ...    组织关系-解雇    组织关系-解雇  "
      ]
     },
     "execution_count": 3,
     "metadata": {},
     "output_type": "execute_result"
    }
   ],
   "source": [
    "valid_a.head()"
   ]
  },
  {
   "cell_type": "code",
   "execution_count": null,
   "metadata": {},
   "outputs": [],
   "source": [
    "def event_evaluation()"
   ]
  },
  {
   "cell_type": "markdown",
   "metadata": {},
   "source": [
    "## MTL: EventType + Arugments"
   ]
  },
  {
   "cell_type": "markdown",
   "metadata": {},
   "source": [
    "## Flatten: EventType * Arguments\n"
   ]
  }
 ],
 "metadata": {
  "kernelspec": {
   "display_name": "Python 3 (ipykernel)",
   "language": "python",
   "name": "python3"
  },
  "language_info": {
   "codemirror_mode": {
    "name": "ipython",
    "version": 3
   },
   "file_extension": ".py",
   "mimetype": "text/x-python",
   "name": "python",
   "nbconvert_exporter": "python",
   "pygments_lexer": "ipython3",
   "version": "3.9.13"
  },
  "toc": {
   "base_numbering": 1,
   "nav_menu": {},
   "number_sections": true,
   "sideBar": true,
   "skip_h1_title": false,
   "title_cell": "Table of Contents",
   "title_sidebar": "Contents",
   "toc_cell": false,
   "toc_position": {},
   "toc_section_display": true,
   "toc_window_display": false
  }
 },
 "nbformat": 4,
 "nbformat_minor": 1
}
