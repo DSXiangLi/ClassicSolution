{
 "cells": [
  {
   "cell_type": "code",
   "execution_count": null,
   "metadata": {
    "execution": {
     "iopub.execute_input": "2022-10-16T05:30:25.599281Z",
     "iopub.status.busy": "2022-10-16T05:30:25.598476Z",
     "iopub.status.idle": "2022-10-16T05:30:28.940031Z",
     "shell.execute_reply": "2022-10-16T05:30:28.938802Z",
     "shell.execute_reply.started": "2022-10-16T05:30:25.599243Z"
    },
    "pycharm": {
     "is_executing": true
    }
   },
   "outputs": [],
   "source": [
    "import torch \n",
    "import time \n",
    "\n",
    "import pandas as pd # data processing, CSV file I/O (e.g. pd.read_csv)\n",
    "\n",
    "import torch.nn as nn\n",
    "from torch.utils.data.sampler import SequentialSampler, RandomSampler\n",
    "from torch.utils.data.dataloader import DataLoader\n",
    "from torch.utils.tensorboard import SummaryWriter\n",
    "\n",
    "## 项目folder\n",
    "from dataset import SeqMultiLabelDataset\n",
    "from process import Schema2Label \n",
    "from evaluation import extract_multilabel, multilabel_inference, multilabel_evaluation\n",
    "\n",
    "from src.dataset.converter import data_loader \n",
    "from src.train_utils import set_seed, ModelSave, get_torch_device, EarlyStop, TrainParams\n",
    "from src.models.bert import BertClassifier\n",
    "from src.metrics import multilabel_metrics, multilabel_log\n",
    "import transformers \n",
    "from transformers import BertTokenizer\n",
    "transformers.logging.set_verbosity_error()\n",
    "device = get_torch_device()"
   ]
  },
  {
   "cell_type": "code",
   "execution_count": null,
   "metadata": {
    "execution": {
     "iopub.execute_input": "2022-10-16T05:30:28.960470Z",
     "iopub.status.busy": "2022-10-16T05:30:28.960159Z",
     "iopub.status.idle": "2022-10-16T05:30:28.968761Z",
     "shell.execute_reply": "2022-10-16T05:30:28.967795Z",
     "shell.execute_reply.started": "2022-10-16T05:30:28.960428Z"
    }
   },
   "outputs": [],
   "source": [
    "DIR = './trainsample'\n",
    "schema = Schema2Label(DIR+'/duee_event_schema.json')\n",
    "tp = TrainParams(\n",
    "    log_steps = 50,\n",
    "    save_steps = 10,\n",
    "    epoch_size=20,\n",
    "    max_seq_len=400,\n",
    "    batch_size=20,\n",
    "    loss_fn=nn.BCEWithLogitsLoss(),\n",
    "    lr=5e-5,\n",
    "    weight_decay=0.0,\n",
    "    epsilon=1e-6,\n",
    "    warmup_steps=100,\n",
    "    dropout_rate=0.2,\n",
    "    gradient_clip=5.0,\n",
    "    early_stop_params = {\n",
    "        'monitor':'acc',\n",
    "        'mode':'max',\n",
    "        'min_delta': 0,\n",
    "        'patience':3,\n",
    "        'verbose':False\n",
    "    },\n",
    "    pretrain_model = 'bert-base-chinese',\n",
    "    continue_train=False,\n",
    "    label2idx = schema.event_label,\n",
    "    idx2label = {j:i for i,j in schema.event_label.items()},\n",
    "    label_size=len(schema.event_label),\n",
    "    num_layers=1\n",
    ")"
   ]
  },
  {
   "cell_type": "code",
   "execution_count": null,
   "metadata": {
    "execution": {
     "iopub.execute_input": "2022-10-16T05:35:37.554596Z",
     "iopub.status.busy": "2022-10-16T05:35:37.554207Z",
     "iopub.status.idle": "2022-10-16T05:35:52.500806Z",
     "shell.execute_reply": "2022-10-16T05:35:52.499843Z",
     "shell.execute_reply.started": "2022-10-16T05:35:37.554563Z"
    }
   },
   "outputs": [],
   "source": [
    "tokenizer = BertTokenizer.from_pretrained(tp.pretrain_model, do_lower_case=True)\n",
    "train_dataset = SeqMultiLabelDataset(data_loader(DIR+'/train_event.txt'),\n",
    "                                tokenizer, tp.max_seq_len, tp.label2idx)\n",
    "valid_dataset = SeqMultiLabelDataset(data_loader(DIR+'/valid_event.txt'), \n",
    "                                tokenizer, tp.max_seq_len,  tp.label2idx)\n",
    "train_sampler = RandomSampler(train_dataset)\n",
    "valid_sampler = SequentialSampler(valid_dataset)\n",
    "train_loader = DataLoader(train_dataset, sampler=train_sampler, batch_size=tp.batch_size)\n",
    "valid_loader = DataLoader(valid_dataset, sampler=valid_sampler, batch_size=tp.batch_size)"
   ]
  },
  {
   "cell_type": "code",
   "execution_count": null,
   "metadata": {
    "execution": {
     "iopub.execute_input": "2022-10-16T05:38:10.455410Z",
     "iopub.status.busy": "2022-10-16T05:38:10.455048Z",
     "iopub.status.idle": "2022-10-16T05:38:46.219533Z",
     "shell.execute_reply": "2022-10-16T05:38:46.218552Z",
     "shell.execute_reply.started": "2022-10-16T05:38:10.455380Z"
    }
   },
   "outputs": [],
   "source": [
    "tp.update({'num_train_steps': int(len(train_loader)*tp.epoch_size)})\n",
    "\n",
    "CKPT = './checkpoint/event'\n",
    "saver = ModelSave(CKPT, continue_train=False)\n",
    "saver.init()\n",
    "es = EarlyStop(**tp.early_stop_params)\n",
    "global_step = 0\n",
    "tb = SummaryWriter(CKPT)\n",
    "\n",
    "model = BertClassifier(tp)\n",
    "model.to(device)\n",
    "optimizer, scheduler = model.get_optimizer()"
   ]
  },
  {
   "cell_type": "code",
   "execution_count": null,
   "metadata": {
    "execution": {
     "iopub.execute_input": "2022-10-16T05:38:46.221644Z",
     "iopub.status.busy": "2022-10-16T05:38:46.221257Z",
     "iopub.status.idle": "2022-10-16T08:14:19.606872Z",
     "shell.execute_reply": "2022-10-16T08:14:19.605671Z",
     "shell.execute_reply.started": "2022-10-16T05:38:46.221605Z"
    },
    "jupyter": {
     "outputs_hidden": true
    },
    "scrolled": true
   },
   "outputs": [],
   "source": [
    "for epoch_i in range(tp['epoch_size']):\n",
    "    print(f\"{'Epoch':^7} | {'Batch':^7} | {'Train Loss':^12} | {'Val Loss':^10}  | {'Elapsed':^9}\")\n",
    "    print(\"-\"*60)\n",
    "\n",
    "    # Measure the elapsed time of each epoch\n",
    "    t0_epoch, t0_batch = time.time(), time.time()\n",
    "    total_loss, batch_loss, batch_counts = 0, 0, 0\n",
    "\n",
    "    model.train()\n",
    "    for step, batch in enumerate(train_loader):\n",
    "        global_step +=1\n",
    "        batch_counts +=1\n",
    "\n",
    "        #Forward propogate\n",
    "        model.zero_grad()\n",
    "        feature = {k:v.to(device) for k, v in batch.items()}\n",
    "        logits = model(feature)\n",
    "        loss = model.compute_loss(feature, logits)\n",
    "        batch_loss += loss.item()\n",
    "        total_loss += loss.item()\n",
    "        loss.backward()\n",
    "\n",
    "        torch.nn.utils.clip_grad_norm_(model.parameters(), tp.gradient_clip)\n",
    "        optimizer.step()\n",
    "        scheduler.step()\n",
    "        # Log steps for train loss logging\n",
    "        if (step % tp.log_steps == 0 and step != 0) or (step == len(train_loader) - 1):\n",
    "            time_elapsed = time.time() - t0_batch\n",
    "            print(f\"{epoch_i + 1:^7} | {step:^7} | {batch_loss / batch_counts:^12.6f} | {'-':^9} | {time_elapsed:^9.2f}\")\n",
    "            tb.add_scalar('loss/batch_train', batch_loss / batch_counts, global_step=global_step)\n",
    "            batch_loss, batch_counts = 0, 0\n",
    "            t0_batch = time.time()\n",
    "\n",
    "    # On Epoch End: calcualte train & valid loss and log overall metrics\n",
    "    time_elapsed = time.time() - t0_epoch\n",
    "    val_metrics = multilabel_metrics(model, valid_loader, device)\n",
    "    avg_train_loss = total_loss / step\n",
    "\n",
    "    print(\"-\"*70)\n",
    "    print(f\"{epoch_i + 1:^7} | {'-':^7} | {avg_train_loss:^12.6f} | {val_metrics['val_loss']:^10.6f} | {time_elapsed:^9.2f}\")\n",
    "    multilabel_log(epoch_i, val_metrics)\n",
    "    print(\"\\n\")\n",
    "    if es.check(val_metrics):\n",
    "        break "
   ]
  },
  {
   "cell_type": "markdown",
   "metadata": {
    "pycharm": {
     "name": "#%% md\n"
    }
   },
   "source": [
    "## Test Inference"
   ]
  },
  {
   "cell_type": "code",
   "execution_count": null,
   "metadata": {
    "execution": {
     "iopub.execute_input": "2022-10-16T08:29:37.904440Z",
     "iopub.status.busy": "2022-10-16T08:29:37.904031Z",
     "iopub.status.idle": "2022-10-16T08:30:01.508552Z",
     "shell.execute_reply": "2022-10-16T08:30:01.507519Z",
     "shell.execute_reply.started": "2022-10-16T08:29:37.904408Z"
    }
   },
   "outputs": [],
   "source": [
    "test_dataset = SeqMultiLabelDataset(data_loader(DIR+'/test_event.txt'), \n",
    "                                tokenizer, tp.max_seq_len,  tp.label2idx)\n",
    "test_sampler = SequentialSampler(test_dataset)\n",
    "test_loader = DataLoader(test_dataset, sampler=test_sampler, batch_size=tp.batch_size)"
   ]
  },
  {
   "cell_type": "code",
   "execution_count": null,
   "metadata": {
    "execution": {
     "iopub.execute_input": "2022-10-16T08:45:52.595873Z",
     "iopub.status.busy": "2022-10-16T08:45:52.595477Z",
     "iopub.status.idle": "2022-10-16T08:45:52.621639Z",
     "shell.execute_reply": "2022-10-16T08:45:52.620711Z",
     "shell.execute_reply.started": "2022-10-16T08:45:52.595838Z"
    }
   },
   "outputs": [],
   "source": [
    "test = pd.read_csv(DIR+'/test.csv')\n",
    "valid = pd.read_csv(DIR+\"/valid.csv\")\n",
    "pred = multilabel_inference(model, test_loader, device)\n",
    "test['prob'] = pred\n",
    "pred = multilabel_inference(model, valid_loader, device)\n",
    "valid['pred'] = pred\n",
    "valid['prob'] = valid['pred']\n",
    "valid['pred_label'] = valid['pred'].map(lambda x: extract_multilabel(x, tp.idx2label, 0.5))\n",
    "test['prob'] = test['pred']\n",
    "test['pred_label'] = test['pred'].map(lambda x: extract_multilabel(x, tp.idx2label, 0.5))"
   ]
  },
  {
   "cell_type": "code",
   "execution_count": null,
   "metadata": {
    "execution": {
     "iopub.execute_input": "2022-10-16T08:50:06.563862Z",
     "iopub.status.busy": "2022-10-16T08:50:06.562860Z",
     "iopub.status.idle": "2022-10-16T08:50:13.048259Z",
     "shell.execute_reply": "2022-10-16T08:50:13.047114Z",
     "shell.execute_reply.started": "2022-10-16T08:50:06.563818Z"
    },
    "pycharm": {
     "name": "#%%\n"
    }
   },
   "outputs": [],
   "source": [
    "valid.to_csv('./trainsample/valid_event_cls_pred.csv')\n",
    "test.to_csv('./trainsample/test_event_cls_pred.csv')"
   ]
  },
  {
   "cell_type": "markdown",
   "metadata": {
    "pycharm": {
     "name": "#%% md\n"
    }
   },
   "source": [
    "## Evaluation"
   ]
  },
  {
   "cell_type": "code",
   "execution_count": null,
   "metadata": {},
   "outputs": [],
   "source": [
    "valid = pd.read_csv('./trainsample/valid_event_cls_pred.csv')\n",
    "test = pd.read_csv('./trainsample/test_event_cls_pred.csv')"
   ]
  },
  {
   "cell_type": "code",
   "execution_count": null,
   "metadata": {},
   "outputs": [],
   "source": [
    "valid['pred_label'] = valid['pred_label'].map(lambda x: ast.literal_eval(x))\n",
    "valid['event_label'] = valid['event_label'].map(lambda x: ast.literal_eval(x))"
   ]
  },
  {
   "cell_type": "code",
   "execution_count": null,
   "metadata": {
    "pycharm": {
     "name": "#%%\n"
    }
   },
   "outputs": [],
   "source": [
    "event_evaluation(valid['event_label'].values, valid['pred_label'].values)"
   ]
  }
 ],
 "metadata": {
  "kernelspec": {
   "display_name": "Python 3 (ipykernel)",
   "language": "python",
   "name": "python3"
  },
  "language_info": {
   "codemirror_mode": {
    "name": "ipython",
    "version": 3
   },
   "file_extension": ".py",
   "mimetype": "text/x-python",
   "name": "python",
   "nbconvert_exporter": "python",
   "pygments_lexer": "ipython3",
   "version": "3.9.13"
  },
  "toc": {
   "base_numbering": 1,
   "nav_menu": {},
   "number_sections": true,
   "sideBar": true,
   "skip_h1_title": false,
   "title_cell": "Table of Contents",
   "title_sidebar": "Contents",
   "toc_cell": false,
   "toc_position": {},
   "toc_section_display": true,
   "toc_window_display": false
  }
 },
 "nbformat": 4,
 "nbformat_minor": 4
}