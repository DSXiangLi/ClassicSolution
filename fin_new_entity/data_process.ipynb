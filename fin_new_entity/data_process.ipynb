{
 "cells": [
  {
   "cell_type": "code",
   "execution_count": 1,
   "id": "ce665e69",
   "metadata": {},
   "outputs": [],
   "source": [
    "from process import data_process\n",
    "import numpy as np \n",
    "import itertools\n",
    "from src.preprocess.str_utils import get_extra_chars"
   ]
  },
  {
   "cell_type": "code",
   "execution_count": 3,
   "id": "4f9aad5e",
   "metadata": {},
   "outputs": [
    {
     "name": "stdout",
     "output_type": "stream",
     "text": [
      "             text_l      title_l\n",
      "count   5013.000000  5013.000000\n",
      "mean     816.943347    38.763216\n",
      "std      979.547978    45.021282\n",
      "min        0.000000     0.000000\n",
      "25%      118.000000    12.000000\n",
      "50%      587.000000    22.000000\n",
      "75%     1168.000000    36.000000\n",
      "max    16056.000000   177.000000\n",
      "302样本无实体\n",
      "49样本定位的实体未出现在文本中为错误样本\n",
      "2634样本文本长度超过510\n",
      "0样本标题长度超过510\n",
      "切分样本后总共样本数9108\n"
     ]
    }
   ],
   "source": [
    "df = data_process()"
   ]
  },
  {
   "cell_type": "markdown",
   "id": "93f02a86",
   "metadata": {},
   "source": [
    "## Sample Split"
   ]
  },
  {
   "cell_type": "code",
   "execution_count": 3,
   "id": "fc27e044",
   "metadata": {},
   "outputs": [
    {
     "data": {
      "text/plain": [
       "(3968, (7248, 11), 992, (1860, 11))"
      ]
     },
     "execution_count": 3,
     "metadata": {},
     "output_type": "execute_result"
    }
   ],
   "source": [
    "from sklearn.model_selection import train_test_split\n",
    "import numpy as np \n",
    "train_id, valid_id = train_test_split(np.unique(df['id'].values), test_size=0.2, random_state=1234)\n",
    "train = df.loc[df['id'].isin(train_id),:]\n",
    "valid = df.loc[df['id'].isin(valid_id),:]\n",
    "len(train_id), train.shape, len(valid_id), valid.shape"
   ]
  },
  {
   "cell_type": "code",
   "execution_count": 25,
   "id": "465293cf",
   "metadata": {},
   "outputs": [],
   "source": [
    "valid.to_csv('./trainsample/valid.csv')\n",
    "train.to_csv('./trainsample/train.csv')"
   ]
  },
  {
   "cell_type": "markdown",
   "id": "bb0293ee",
   "metadata": {},
   "source": [
    "## BIO Tagging "
   ]
  },
  {
   "cell_type": "code",
   "execution_count": 12,
   "id": "667faf15",
   "metadata": {},
   "outputs": [],
   "source": [
    "from src.dataset.converter import single_text\n",
    "from src.seqlabel_utils import pos2bio\n",
    "single_text(train['id'].values, train['corpus'].values, \n",
    "            train.apply(lambda x: pos2bio(x.corpus, x.ent_pos), axis=1).values,\n",
    "            './trainsample', 'train_bio')\n",
    "single_text(valid['id'].values, valid['corpus'].values, \n",
    "            valid.apply(lambda x: pos2bio(x.corpus, x.ent_pos), axis=1).values,\n",
    "            './trainsample', 'valid_bio')"
   ]
  },
  {
   "cell_type": "markdown",
   "id": "8f17b5cf",
   "metadata": {
    "pycharm": {
     "name": "#%% md\n"
    }
   },
   "source": [
    "## Span Tagging"
   ]
  },
  {
   "cell_type": "code",
   "execution_count": 26,
   "id": "08a0ba23",
   "metadata": {},
   "outputs": [],
   "source": [
    "from src.dataset.converter import single_text_double_label\n",
    "from src.seqlabel_utils import pos2span\n",
    "train_label = train.apply(lambda x: pos2span(x.corpus, x.ent_pos, {'FIN':1}), axis=1).values\n",
    "valid_label = valid.apply(lambda x: pos2span(x.corpus, x.ent_pos, {'FIN':1}), axis=1).values\n",
    "single_text_double_label(train['id'].values, train['corpus'].values, \n",
    "                         [i[0] for i in train_label], [i[1] for i in train_label],\n",
    "            './trainsample', 'train_span')\n",
    "single_text_double_label(valid['id'].values, valid['corpus'].values, \n",
    "            [i[0] for i in valid_label], [i[1] for i in valid_label],\n",
    "            './trainsample', 'valid_span')"
   ]
  }
 ],
 "metadata": {
  "kernelspec": {
   "display_name": "py36_tf23",
   "language": "python",
   "name": "py36_tf23"
  },
  "language_info": {
   "codemirror_mode": {
    "name": "ipython",
    "version": 3
   },
   "file_extension": ".py",
   "mimetype": "text/x-python",
   "name": "python",
   "nbconvert_exporter": "python",
   "pygments_lexer": "ipython3",
   "version": "3.6.13"
  },
  "toc": {
   "base_numbering": 1,
   "nav_menu": {},
   "number_sections": true,
   "sideBar": true,
   "skip_h1_title": false,
   "title_cell": "Table of Contents",
   "title_sidebar": "Contents",
   "toc_cell": false,
   "toc_position": {},
   "toc_section_display": true,
   "toc_window_display": false
  }
 },
 "nbformat": 4,
 "nbformat_minor": 5
}
